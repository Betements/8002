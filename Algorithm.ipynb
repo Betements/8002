{
  "metadata": {
    "kernelspec": {
      "name": "python36",
      "display_name": "Python 3.6",
      "language": "python"
    },
    "language_info": {
      "mimetype": "text/x-python",
      "nbconvert_exporter": "python",
      "name": "python",
      "pygments_lexer": "ipython3",
      "version": "3.6.6",
      "file_extension": ".py",
      "codemirror_mode": {
        "version": 3,
        "name": "ipython"
      }
    }
  },
  "nbformat_minor": 2,
  "nbformat": 4,
  "cells": [
    {
      "cell_type": "code",
      "source": "# Classes File",
      "metadata": {
        "trusted": true
      },
      "execution_count": null,
      "outputs": []
    },
    {
      "cell_type": "code",
      "source": "# Local Import\n\nimport numpy as np\nimport pandas as pd\nimport math\nimport scipy.stats as ss\nimport scipy.optimize as so\nimport numpy.linalg as la\nfrom itertools import product\nimport numba as nb\nimport numpy.random as nr\n\n%cd '/home/nbuser/library/example_code_implementation_guide/'",
      "metadata": {
        "trusted": true
      },
      "execution_count": 1,
      "outputs": [
        {
          "text": "/home/nbuser/library/example_code_implementation_guide\n",
          "name": "stdout",
          "output_type": "stream"
        }
      ]
    },
    {
      "cell_type": "code",
      "source": "# Plot Tools\nimport matplotlib.pyplot as plt\n%matplotlib inline\n\nfrom matplotlib import cycler\ncolors = cycler('color', \n       ['#EE6666', '#3388BB', '#9988DD', '#EECC55', \n       '#88BB44', '#FFBBBB'])\n\nplt.rc('axes', facecolor='#E6E6E6', edgecolor='none',\n      axisbelow=True, grid=True, prop_cycle=colors)\nplt.rc('grid', color='w', linestyle='solid')\nplt.rc('xtick', direction='out', color='gray')\nplt.rc('ytick', direction='out', color='gray')\nplt.rc('patch', edgecolor='#E6E6E6')\nplt.rc('lines', linewidth=2)",
      "metadata": {
        "trusted": true
      },
      "execution_count": 2,
      "outputs": []
    },
    {
      "cell_type": "code",
      "source": "# Test Data - Census Tract\nstata = pd.read_stata('private_data_by_cells.dta')",
      "metadata": {
        "trusted": true
      },
      "execution_count": 3,
      "outputs": []
    },
    {
      "cell_type": "code",
      "source": "data = stata[stata.columns[::-1]]",
      "metadata": {
        "trusted": true
      },
      "execution_count": 4,
      "outputs": []
    },
    {
      "cell_type": "code",
      "source": "# 1. Data Wrangle - Pandas to Numpy\nclass Wrangle:\n    '''\n    Data Wrangling Class'''\n    \n    def __init__(self, data):\n        # Numpy-nize Census Tract\n        self.Key = data.keys()\n        self.Cell = np.unique(np.array(data[self.Key[0]])).astype(int)\n        self.Cells = len(self.Cell) \n        self.N = [len(data.loc[data.loc[:, self.Key[0]]== i]) for i in self.Cell]\n        self.Y = [np.array(data.loc[data.loc[:, self.Key[0]]== i, self.Key[1]]) for i in self.Cell]\n        if len(self.Key) > 3:\n            None\n        else:\n            self.X = [np.array(data.loc[data.loc[:, self.Key[0]]== i, self.Key[2]]) for i in self.Cell]",
      "metadata": {
        "trusted": true
      },
      "execution_count": 5,
      "outputs": []
    },
    {
      "cell_type": "code",
      "source": "class Alg_1:\n    '''\n    Chetty and Friedman Algorithm '''\n    \n    def __init__(self, data, method, ϵ=4.0, figure=[]):\n        '''\n        Setup selves'''\n        self.D = Wrangle(data)\n        self.col = len(self.D.Key) - 1\n        self.Outlier = np.array([list(i) for i in product([0, 1], repeat = self.col)])\n        self.figure = figure\n        self.method = method\n        self.ϵ = ϵ\n        self.nd75 = ss.norm.ppf(0.75)\n#         self.G = np.array([0.5, 0.5])\n        self.W = np.array([1])\n        self.N = self.D.N\n        self.index = self.D.Cell - 1\n        self.range = range(0,4) \n        \n        self.laps = 1/math.sqrt(2)\n    \n    def lsR(self, I, W=None, O=None):\n        ''' Least-squares Set up'''\n        if W is None:\n            W = self.W\n      \n        if O is None:\n            y = np.asarray(self.D.Y[I]) * np.sqrt(W)\n            x = np.asarray(self.D.X[I]) * np.sqrt(W)\n        else:\n            y = np.concatenate((self.D.Y[I], self.Outlier[O][0]), axis=None) * np.sqrt(W)\n            x = np.concatenate((self.D.X[I], self.Outlier[O][1]), axis=None) * np.sqrt(W)\n        \n        X = np.vstack([np.ones_like(x), x]).T\n        return X, y\n    \n    def lstsq(self, X, y, stderr=False):\n        betas = la.lstsq(X, y, rcond=None)[0]\n        residuals = y - np.dot(X, betas)\n        if stderr:\n            stderr = np.sqrt(residuals.dot(residuals) / np.sum(np.square(X.T[1] - np.mean(X.T[1]))) / (len(residuals) - self.col))\n        return betas, residuals, stderr\n    \n    def Scale(self, residuals, scale=None, w=None, c=4.685, K = 0.199):\n        ''' Scale Calculation as per S-Estimator '''\n        L = len(residuals)\n        if w is None:\n            scale = np.median(np.absolute(residuals - np.median(residuals))) / np.array([self.nd75])\n        else:\n            scale = np.sqrt((np.dot(w, np.square(residuals))) / np.array([L * K]))\n        \n        w = np.square(self.W - np.square(((residuals / L)<=c) / np.array([c])))\n        return scale, w\n    \n    def MM(self, I, O=None, stderr=False):\n        ''' MM - Estimator Regression '''\n        # Ordinary Least Squares\n        R01, R02 = self.lsR(I=I, O=O)\n        RO1, RO2, RO3 = self.lstsq(R01, R02)\n        S, W = self.Scale(RO2)\n        beta = RO1[1]\n        while True:\n            # WLR\n            R11, R12 = self.lsR(I=I, W=W, O=O)\n            RW1, RW2, RW3 = self.lstsq(R11, R12)\n            #7. Convergence\n            if math.isclose(RW1[1], beta):\n                break\n            else:\n                S, W = self.Scale(RW2, S, W)\n                beta = RW1[1]\n        # betas, residuals, stderr\n        if stderr:\n            RW1, RW2, RW3 = self.lstsq(R11, R12, True)\n        return RW1, RW2, RW3\n    \n    def LSR(self):\n        # Run every cell  Regression in one line\n        if self.method == \"OLS\":\n            R0 = [self.lsR(i) for i in self.index]\n            RA = [self.lstsq(i[0], i[1], True) for i in R0]\n            R1 = [[self.lsR(i, O=j) for j in self.range] for i in self.index]\n            RB = [[self.lstsq(i[j][0], i[j][1]) for j in self.range] for i in R1]            \n        if self.method == \"MM\":\n            RA = [self.MM(i, stderr=True) for i in self.index]\n            RB = [[self.MM(i, O=j) for j in self.range] for i in self.index]        \n         \n        # Return True Statistics\n        if \"F1\" or \"F2\" in self.figure:\n            LS = [[max([abs(RB[i][j][0][1] - RA[i][0][1]) for j in self.range]), \n                  np.argmax([abs(RB[i][j][0][1] - RA[i][0][1]) for j in self.range])]\n                  for i in self.index]\n            OSE = np.multiply(self.N, np.transpose(LS)[0])\n            MOSE = max(OSE)\n            if \"F1\" in self.figure:\n                self.MOSE = max(OSE) * 0.25\n                k = np.argmax(OSE)\n                j = np.transpose(LS)[1][k].astype(int)\n                self.fD = np.vstack((self.D.X[k], self.D.Y[k]))\n                self.fo = np.vstack((self.D.Outlier[J[k]][0], self.D.Outlier[J[k]][0]))\n                self.fLA = lambda λ: RA[k][0][1]*λ + RA[k][0][0]\n                self.fLB = lambda λ: RB[k][j][0][1]*λ + RB[k][j][0][0]\n                self.cell = str(int(self.index[k]))\n                self.LS = np.transpose(LS)[0][k]\n            elif \"F2\" in self.figure:\n                self.fD = np.vstack((self.D.N, np.transpose(LS)[0]))\n                self.MOSE = MOSE\n                self.fLA = lambda λ: MOSE / λ\n        else:\n            MOSE = max(np.multiply(self.N, \n                [max([abs(RB[i][j][0][1] - RA[i][0][1]) for j in self.range]) for i in self.index]))\n        return np.transpose([[RA[i][j] for j in [0, 2]] for i in self.index]), MOSE\n    \n    def noise(self, θseθ, χ):\n        ''' Add Noise to Statistics '''\n        NN = np.array(self.D.N)\n        S = NN.astype(float) * self.ϵ\n        noise = lambda x: x * math.sqrt(2)\n        \n        nθ = [i[1] for i in θseθ[0]] + χ * noise(nr.laplace(0, self.laps)) / S\n        sen = np.square(θseθ[1]) + 2 * np.square(χ / S)\n        senθ = np.sqrt(sen.astype(float))\n        nsenθ = senθ + χ * noise(nr.laplace(0, self.laps)) / S\n        nN = self.D.N * (1 + noise(nr.laplace(0, self.laps)) / S)\n        return nθ, nsenθ, nN\n            \n    def __call__(self):\n        ''' Release Noise Infused Statistics '''\n        m1, m2 = self.LSR()\n        nθ, nsenθ, nN = self.noise(m1, m2)\n        return nθ, nsenθ, nN\n    \n    def plot(self):\n        fig, ax = plt.subplots(figsize = (8,6))\n        if \"F1\" in self.figure:\n            # Figure 1 - Effect of Outlier on Regression + MOSE line\n            ax.scatter(self.fD[1], self.fD[0])\n            ax.scatter(self.fo[1], self.fo[0])\n            l = np.linspace(0, 1, 5)\n            ax.plot(l, self.fLA(l), label=\"%s-Estimate in Actual Data\"%self.method)\n            ax.plot(l, self.fLB(l), linestyle = 'dashed', label=\"%s-Estimate with Outlier\"%self.method)\n            # LS line at 25th pctile\n            p25 = [0.25, 0.25]\n            yp25 = [self.fLA(x[0]), self.fLB(x[1])]\n            ax.plot(p25, yp25, label=\"LS at 25th pctile = %s\"%str(self.MOSE))\n            \n            ax.set_title(\"FIGURE 1: Calculation of Local Sensitivity\", pad=35)\n            ax.set_ylabel(\"Child's Income Rank for cell = %s\"%self.cell)\n            ax.set_xlabel(\"Parent's Income Rank for cell = %s\"%self.cell)\n            \n            plt.legend(bbox_to_anchor=(0., 1.02, 1., .102), loc='lower left',\n            ncol=2, mode=\"expand\", borderaxespad=0.)\n            ax.set_xlim(-0.025, 1.025)\n            \n        if \"F2\" in self.figure:\n            ax.scatter(self.fD[1], self.fD[0])\n            l = np.linspace(0, 1, 5)\n            ax.plot(l, self.fLA(l), label=\"MOSE = $\\frac{χ}{N}=frac{%s}{N}$\"%str(self.MOSE))\n            ax.xscale('log')\n            ax.set_xlim(min(self.D.N), max(self.D.N))\n            \n        #if kind == \"sdl\":\n            # Figure 3\n            \n            \n            \n        #if kind == \"reg\":\n            # Figure 4\n            \n    \n        ax.set_ylim(-0.025, 1.025)\n\n        ax.grid(which='minor', color='w', alpha=0.3)            \n        plt.show()            ",
      "metadata": {
        "trusted": true
      },
      "execution_count": 6,
      "outputs": []
    },
    {
      "cell_type": "code",
      "source": "%%timeit\nTest()",
      "metadata": {
        "trusted": true
      },
      "execution_count": null,
      "outputs": []
    },
    {
      "cell_type": "code",
      "source": "# Do's List\n\n# 1 - Cell Suppression Algorithm (SDL techniques) \n\n# 2 - ",
      "metadata": {},
      "execution_count": null,
      "outputs": []
    },
    {
      "cell_type": "markdown",
      "source": "$\\,$\n\n$\\,$\n\n$\\,$\n\n$\\,$\n\n$\\,$\n\n$\\,$\n\n$\\,$",
      "metadata": {}
    }
  ]
}