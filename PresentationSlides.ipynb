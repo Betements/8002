{
  "metadata": {
    "kernelspec": {
      "display_name": "Python 3.6",
      "name": "python36",
      "language": "python"
    },
    "language_info": {
      "mimetype": "text/x-python",
      "nbconvert_exporter": "python",
      "name": "python",
      "pygments_lexer": "ipython3",
      "version": "3.6.6",
      "file_extension": ".py",
      "codemirror_mode": {
        "version": 3,
        "name": "ipython"
      }
    }
  },
  "nbformat_minor": 2,
  "nbformat": 4,
  "cells": [
    {
      "cell_type": "markdown",
      "source": "# Slides",
      "metadata": {}
    },
    {
      "cell_type": "code",
      "source": "",
      "metadata": {},
      "execution_count": null,
      "outputs": []
    },
    {
      "cell_type": "markdown",
      "source": "**0. More Practical Methods To Reduce Privacy Loss When Disclosing Statistics Based On Microdata**",
      "metadata": {}
    },
    {
      "cell_type": "markdown",
      "source": "**1. Diclosure Avoidance Methods**\n\n1. Statatistical Disclosure Limitation (SDL)\n- Existing Methods\n - \n\n- Data reconstruction of U.S. Census\n - Nissim 2003 & Garfinkel 2008\n\n2. Privacy Protection\n- Statistical Databases (Microdata)\n - 'safe data' approach\n - 'safe access' approach\n - perturbative methods\n- Social Scientists\n - cell suppression\n - data swapping\n - output noise injection\n\n*(30s)*",
      "metadata": {}
    },
    {
      "cell_type": "markdown",
      "source": "**2. Differential Privacy**\n\n1. Dwork et al.\n- Qualititative Properties of Differential Privacy\n - Protection against arbitrary risks, moving beyond protection against re-identification\n - Automatic neutralisation of linkage attacks\n - Closure Under Post-Processing\n\n- Definitions\n - A randomised function $\\mathcal{K}$ gives $(\\epsilon,\\delta)$-*differential privacy* if for all data sets $D$ and $D'$ differing on at most one element, and all $S\\subset \\text{Range}\\left(\\mathcal{K}\\right)$\n$$\\mathbb{P}\\left[\\mathcal{K}\\left( D \\right)\\in S\\right] \n\\le e^{\\epsilon} \\cdot \\mathbb{P}\n\\left[\\mathcal{K}\\left( D' \\right) \\in S \\right] + \\delta\n$$\n- [Diagram]\n\n2. Applications to Statistics\n- Dwork Lei 2009\n - Robust Disclosure Methods\n- Wasserman Zhou\n - \n- Smith 2011\n - \n- Kifer et al. 2012\n - \n- DP in the SDL framework is in its infancy\n - U.S. 2020 Census to apply DP to microdata\n\n3. Challenges\n- Sensitivity\n\n*(1m)*",
      "metadata": {}
    },
    {
      "cell_type": "markdown",
      "source": "**3. Chetty Paper**\n\n1. The small sample problem\n- \n\n*(30s)*",
      "metadata": {}
    },
    {
      "cell_type": "markdown",
      "source": "**4. Implementation**\n\n1. Estimate Statistic\n- The linear regression model\n$$ Y = \\textbf{X}^T\\beta+\\phi$$\n- OLS estimate\n$$\\min_\\beta \\lVert Y - X^T\\beta \\rVert_2^2$$\n\n\n- Winzorization methods\n\n2. Local Sensitivity\n- F1 replication\n\n3. Maximum Observed Sensitivity\n- F2 replication\n\n4. Add Laplace/Gaussian Noise\n- F3 Noise v. Count Suppression\n- Gauss v. Laplace\n- Chetty assumes $\\epsilon=4$ \n\n5. Release Noise-Infused Statistics\n- Method to compare \n\n*(1m)*",
      "metadata": {}
    },
    {
      "cell_type": "markdown",
      "source": "**4. How Chetty Method Differs From DP Methods**",
      "metadata": {}
    },
    {
      "cell_type": "markdown",
      "source": "**5. Extensions**\n1. The problem of sensitivity\n- The Alda and Rubenstein Sensitivity Sampler\n- Robust Regression\n- Winzorization (censor)\n\n2. Test for MLR (using opportunity atlas)\n\n\n*(1m)*",
      "metadata": {}
    },
    {
      "cell_type": "markdown",
      "source": "*(30s)*",
      "metadata": {}
    }
  ]
}