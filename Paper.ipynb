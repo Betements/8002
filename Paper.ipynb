{
  "metadata": {
    "language_info": {
      "mimetype": "text/x-python",
      "nbconvert_exporter": "python",
      "name": "python",
      "pygments_lexer": "ipython3",
      "version": "3.6.6",
      "file_extension": ".py",
      "codemirror_mode": {
        "version": 3,
        "name": "ipython"
      }
    },
    "kernelspec": {
      "name": "python36",
      "display_name": "Python 3.6",
      "language": "python"
    }
  },
  "nbformat_minor": 2,
  "nbformat": 4,
  "cells": [
    {
      "cell_type": "raw",
      "source": "More Practical Methods To Guarantee Privacy When Disclosing Statistics Based On Small Samples",
      "metadata": {}
    },
    {
      "cell_type": "raw",
      "source": "ABSTRACT",
      "metadata": {}
    },
    {
      "cell_type": "raw",
      "source": "In this research report we review a noise-adding algorithm proposed by R. Chetty and J. Friedman in their 2019 paper 'Practical Methods To Reduce Privacy Loss When Disclosing Statistics Based On Small Samples'. This particular algorithm was developed in the flavour of differential privacy with the purpose of releasing regression statistics to the public. However, it does not have the privacy guarantee that differential privacy offers. In light of this we repurpose an older algorithm by Dwork and Lei and compare both algorithms under different regression methods, our metric being the mean squared error of the noise infused statistic to the true statistic. Our extension is the firstly the implementation of MM-estimation in the Dwork Lei algorithm, and secondly the application these algorithms to the Multivariate problem. Ultimately we aim to fill in a persistent gap in the differential privacy literature and its pratical application in social science.",
      "metadata": {}
    },
    {
      "cell_type": "raw",
      "source": "I Introduction",
      "metadata": {}
    },
    {
      "cell_type": "raw",
      "source": "",
      "metadata": {}
    },
    {
      "cell_type": "raw",
      "source": "- the disclosure of regression estimates\n- work on summary statistics in social science, counts, google library\n- problem, individual idenfication via summary statistics [abod 2018]\n- options for social scientists: inject noise into output [garfinkel 2018], SDL approach of adding noise based on variance, differential privacy is one of many approaches, albeit a highly popularized approach in computer science. Other methods for regression estimates would include swapping, or local suppression for counts",
      "metadata": {}
    },
    {
      "cell_type": "raw",
      "source": "",
      "metadata": {}
    },
    {
      "cell_type": "raw",
      "source": "### B. Differential Privacy Primer",
      "metadata": {}
    },
    {
      "cell_type": "raw",
      "source": "- definitions of probabilistic guarantee\n- laplace mechanism and epsilon\n- relaxation for delta\n- main works in relation to statistics:\n - Wasserman Zhou\n - Zhou functional mechanism\n - Smith Winzorization\n - Nissim Convex Optimization\n - Rubenstein Bernstein Mechanism\n- challenges in using differential privacy:\n - sensitivity analysis\n  - global, local, sampler methods\n - subsampling and aggregation",
      "metadata": {}
    },
    {
      "cell_type": "raw",
      "source": "",
      "metadata": {}
    },
    {
      "cell_type": "raw",
      "source": "### C. Chetty Friedman Algorithm",
      "metadata": {}
    },
    {
      "cell_type": "raw",
      "source": "- at small samples\n- somewhere in between DP and SDL\n - in the sense it uses the language and methodology of DP to scale noise\n- concerns on robust methods\n - Dwork Lei 2009 using median regression\n - we use MM estimation to guarantee robustness\n - we release H(D) = IQR(D)scale and we release RH\n - we repeat for SE and release SE\n- ",
      "metadata": {}
    },
    {
      "cell_type": "raw",
      "source": "",
      "metadata": {}
    },
    {
      "cell_type": "raw",
      "source": "II The Problem",
      "metadata": {}
    },
    {
      "cell_type": "raw",
      "source": "",
      "metadata": {}
    },
    {
      "cell_type": "raw",
      "source": "III MM-Estimator Algorithm",
      "metadata": {}
    },
    {
      "cell_type": "raw",
      "source": "",
      "metadata": {}
    }
  ]
}