{
  "metadata": {
    "language_info": {
      "mimetype": "text/x-python",
      "nbconvert_exporter": "python",
      "name": "python",
      "pygments_lexer": "ipython3",
      "version": "3.6.6",
      "file_extension": ".py",
      "codemirror_mode": {
        "version": 3,
        "name": "ipython"
      }
    },
    "kernelspec": {
      "name": "python36",
      "display_name": "Python 3.6",
      "language": "python"
    }
  },
  "nbformat_minor": 2,
  "nbformat": 4,
  "cells": [
    {
      "cell_type": "raw",
      "source": "More Practical Methods To Guarantee Privacy When Disclosing Statistics Based On Small Samples",
      "metadata": {}
    },
    {
      "cell_type": "raw",
      "source": "- abstract (n-i-r-e,  \n- introduction (social science and absence of effective SDL methods)\n- p1 - differential privacy definitions and literature\n- p2 - application 1 - Chetty Friedman algorithm - present implementation\n- p3 - improvements (1) - using robust methods using winzorization; present MM estimator\n- p4 - comparisons: mse for mose method (gaussian / laplace)\n- p5 - improvements (2) - present (modified) dwork algorithm - guarantees privacy\n- p6 - comparisons: mse for dwork method (gaussian / laplace)",
      "metadata": {}
    },
    {
      "cell_type": "raw",
      "source": "ABSTRACT",
      "metadata": {}
    },
    {
      "cell_type": "raw",
      "source": "I Introduction",
      "metadata": {}
    },
    {
      "cell_type": "raw",
      "source": "The public increasingly relies on statiscal agencies, whether public or private firms, to be discreet when disclosing data. And although issues have been raised [Garfunkel] around the potential privacy risks of this disclosure of data, whether it be somewhat trivial [Netflix] or not, it is also researchers whom stand to breach confidentiality when releasing statistics from their research.\nOptions for social scientists amount to the same available to statistical agencies, ordinarily common 'Statiscal Disclosure Limitation' techniques such as local cell suppression or shuffling data, however, these methods alone do not guarantee anonymity, ",
      "metadata": {}
    },
    {
      "cell_type": "raw",
      "source": "- the disclosure of regression estimates\n- work on summary statistics in social science, counts, google library\n- problem, individual idenfication via summary statistics [abod 2018]\n- options for social scientists: inject noise into output [garfinkel 2018], SDL approach of adding noise based on variance, differential privacy is one of many approaches, albeit a highly popularized approach in computer science. Other methods for regression estimates would include swapping, or local suppression for counts",
      "metadata": {}
    },
    {
      "cell_type": "raw",
      "source": "",
      "metadata": {}
    },
    {
      "cell_type": "raw",
      "source": "### B. Differential Privacy Primer",
      "metadata": {}
    },
    {
      "cell_type": "raw",
      "source": "- definitions of probabilistic guarantee\n- laplace mechanism and epsilon\n- relaxation for delta\n- main works in relation to statistics:\n - Wasserman Zhou\n - Zhou functional mechanism\n - Smith Winzorization\n - Nissim Convex Optimization\n - Rubenstein Bernstein Mechanism\n- challenges in using differential privacy:\n - sensitivity analysis\n  - global, local, sampler methods\n - subsampling and aggregation",
      "metadata": {}
    },
    {
      "cell_type": "raw",
      "source": "",
      "metadata": {}
    },
    {
      "cell_type": "raw",
      "source": "### C. Chetty Friedman Algorithm",
      "metadata": {}
    },
    {
      "cell_type": "raw",
      "source": "- at small samples\n- somewhere in between DP and SDL\n - in the sense it uses the language and methodology of DP to scale noise\n- concerns on robust methods\n - Dwork Lei 2009 using median regression\n - we use MM estimation to guarantee robustness\n - we release H(D) = IQR(D)scale and we release RH\n - we repeat for SE and release SE\n- ",
      "metadata": {}
    }
  ]
}