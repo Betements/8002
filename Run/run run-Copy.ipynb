{
  "metadata": {
    "language_info": {
      "mimetype": "text/x-python",
      "nbconvert_exporter": "python",
      "name": "python",
      "pygments_lexer": "ipython3",
      "version": "3.6.6",
      "file_extension": ".py",
      "codemirror_mode": {
        "version": 3,
        "name": "ipython"
      }
    },
    "kernelspec": {
      "name": "python36",
      "display_name": "Python 3.6",
      "language": "python"
    }
  },
  "nbformat_minor": 2,
  "nbformat": 4,
  "cells": [
    {
      "cell_type": "code",
      "source": "# Import Algorithms (& Libraries)\n%cd /home/nbuser/library/DP/\n%run Methods.ipynb",
      "metadata": {
        "trusted": true
      },
      "execution_count": 1,
      "outputs": [
        {
          "text": "/home/nbuser/library/DP\n",
          "name": "stdout",
          "output_type": "stream"
        }
      ]
    },
    {
      "cell_type": "code",
      "source": "# Define Methods\nLBM = [\"Laplace\", \"BETA\", \"MOSE\"]\nNBM = [\"Gaussian\", \"BETA\", \"MOSE\"]\nLBMC = [\"Laplace\", \"BETA\", \"MOSE\", \"Correct\"]\n\nLBDI = [\"Laplace\", \"BETA\", \"DWORK\", \"IQR\"]\nNBDI = [\"Gaussian\", \"BETA\", \"DWORK\", \"IQR\"]\n\nLBDM = [\"Laplace\", \"BETA\", \"DWORK\", \"MAD\"]\nNBDM = [\"Gaussian\", \"BETA\", \"DWORK\", \"MAD\"]",
      "metadata": {
        "trusted": true
      },
      "execution_count": 2,
      "outputs": []
    },
    {
      "cell_type": "code",
      "source": "%cd /home/nbuser/library/DP/Data/DATA/\nwith open(\"SC.pickle\", \"rb\") as handle:\n    x, y, n, v = pickle.load(handle)\n%cd /home/nbuser/library/DP/Data/ESTIMATES/\nwith open(\"ST.pickle\", \"rb\") as handle:\n    tr, to = pickle.load(handle)",
      "metadata": {
        "trusted": true
      },
      "execution_count": 3,
      "outputs": [
        {
          "text": "/home/nbuser/library/DP/Data/DATA\n/home/nbuser/library/DP/Data/ESTIMATES\n",
          "name": "stdout",
          "output_type": "stream"
        }
      ]
    },
    {
      "cell_type": "raw",
      "source": "1",
      "metadata": {}
    },
    {
      "cell_type": "raw",
      "source": "%cd /home/nbuser/library/DP/Data/ESTIMATES/\nwith open(\"SO.pickle\", \"rb\") as handle:\n    r, o = pickle.load(handle)\nlm = MSE(tr, r, o, n, LBM)()\nnm = MSE(tr, r, o, n, NBM)()\nlmc = MSE(tr, r, o, n, LBMC)()\n%cd /home/nbuser/library/DP/Data/MSE/MOS\nwith open('MSO.pickle', 'wb') as handle:\n    pickle.dump((lm, nm, lmc), handle, pickle.HIGHEST_PROTOCOL)",
      "metadata": {}
    },
    {
      "cell_type": "raw",
      "source": "%cd /home/nbuser/library/DP/Data/ESTIMATES/\nwith open(\"SW.pickle\", \"rb\") as handle:\n    r, o = pickle.load(handle)\nlm = MSE(tr, r, o, n, LBM)()\nnm = MSE(tr, r, o, n, NBM)()\nlmc = MSE(tr, r, o, n, LBMC)()\n%cd /home/nbuser/library/DP/Data/MSE/MOS\nwith open('MSW.pickle', 'wb') as handle:\n    pickle.dump((lm, nm, lmc), handle, pickle.HIGHEST_PROTOCOL)",
      "metadata": {}
    },
    {
      "cell_type": "raw",
      "source": "%cd /home/nbuser/library/DP/Data/ESTIMATES/\nwith open(\"SM.pickle\", \"rb\") as handle:\n    r, o = pickle.load(handle)\nlm = MSE(tr, r, o, n, LBM)()\nnm = MSE(tr, r, o, n, NBM)()\nlmc = MSE(tr, r, o, n, LBMC)()\n%cd /home/nbuser/library/DP/Data/MSE/MOS\nwith open('MSM.pickle', 'wb') as handle:\n    pickle.dump((lm, nm, lmc), handle, pickle.HIGHEST_PROTOCOL)",
      "metadata": {}
    },
    {
      "cell_type": "raw",
      "source": "%cd /home/nbuser/library/DP/Data/ESTIMATES/\nwith open(\"SS.pickle\", \"rb\") as handle:\n    r, o = pickle.load(handle)\nlm = MSE(tr, r, o, n, LBM)()\nnm = MSE(tr, r, o, n, NBM)()\nlmc = MSE(tr, r, o, n, LBMC)()\n%cd /home/nbuser/library/DP/Data/MSE/MOS\nwith open('MSS.pickle', 'wb') as handle:\n    pickle.dump((lm, nm, lmc), handle, pickle.HIGHEST_PROTOCOL)",
      "metadata": {}
    },
    {
      "cell_type": "raw",
      "source": "2",
      "metadata": {}
    },
    {
      "cell_type": "raw",
      "source": "%cd /home/nbuser/library/DP/Data/ESTIMATES/\nwith open(\"SO.pickle\", \"rb\") as handle:\n    r, o = pickle.load(handle)\nlm = MSE(tr, r, o, n, LBDI)()\nnm = MSE(tr, r, o, n, NBDI)()\n%cd /home/nbuser/library/DP/Data/MSE/IQR\nwith open('ISO.pickle', 'wb') as handle:\n    pickle.dump((lm, nm), handle, pickle.HIGHEST_PROTOCOL)",
      "metadata": {}
    },
    {
      "cell_type": "raw",
      "source": "%cd /home/nbuser/library/DP/Data/ESTIMATES/\nwith open(\"SW.pickle\", \"rb\") as handle:\n    r, o = pickle.load(handle)\nlm = MSE(tr, r, o, n, LBDI)()\nnm = MSE(tr, r, o, n, NBDI)()\n%cd /home/nbuser/library/DP/Data/MSE/IQR\nwith open('ISW.pickle', 'wb') as handle:\n    pickle.dump((lm, nm), handle, pickle.HIGHEST_PROTOCOL)",
      "metadata": {}
    },
    {
      "cell_type": "raw",
      "source": "%cd /home/nbuser/library/DP/Data/ESTIMATES/\nwith open(\"SM.pickle\", \"rb\") as handle:\n    r, o = pickle.load(handle)\nlm = MSE(tr, r, o, n, LBDI)()\nnm = MSE(tr, r, o, n, NBDI)()\n%cd /home/nbuser/library/DP/Data/MSE/IQR\nwith open('ISM.pickle', 'wb') as handle:\n    pickle.dump((lm, nm), handle, pickle.HIGHEST_PROTOCOL)",
      "metadata": {}
    },
    {
      "cell_type": "raw",
      "source": "%cd /home/nbuser/library/DP/Data/ESTIMATES/\nwith open(\"SS.pickle\", \"rb\") as handle:\n    r, o = pickle.load(handle)\nlm = MSE(tr, r, o, n, LBDI)()\nnm = MSE(tr, r, o, n, NBDI)()\n%cd /home/nbuser/library/DP/Data/MSE/IQR\nwith open('ISS.pickle', 'wb') as handle:\n    pickle.dump((lm, nm), handle, pickle.HIGHEST_PROTOCOL)",
      "metadata": {}
    },
    {
      "cell_type": "raw",
      "source": "3",
      "metadata": {}
    },
    {
      "cell_type": "raw",
      "source": "%cd /home/nbuser/library/DP/Data/ESTIMATES/\nwith open(\"SO.pickle\", \"rb\") as handle:\n    r, o = pickle.load(handle)\nlm = MSE(tr, r, o, n, LBDM)()\nnm = MSE(tr, r, o, n, NBDM)()\n%cd /home/nbuser/library/DP/Data/MSE/MAD\nwith open('MADSO.pickle', 'wb') as handle:\n    pickle.dump((lm, nm), handle, pickle.HIGHEST_PROTOCOL)",
      "metadata": {}
    },
    {
      "cell_type": "code",
      "source": "%cd /home/nbuser/library/DP/Data/ESTIMATES/\nwith open(\"SW.pickle\", \"rb\") as handle:\n    r, o = pickle.load(handle)\nlm = MSE(tr, r, o, n, LBDM)()\nnm = MSE(tr, r, o, n, NBDM)()\n%cd /home/nbuser/library/DP/Data/MSE/MAD\nwith open('MADSW.pickle', 'wb') as handle:\n    pickle.dump((lm, nm), handle, pickle.HIGHEST_PROTOCOL)",
      "metadata": {
        "trusted": true
      },
      "execution_count": null,
      "outputs": [
        {
          "text": "/home/nbuser/library/DP/Data/ESTIMATES\n",
          "name": "stdout",
          "output_type": "stream"
        }
      ]
    },
    {
      "cell_type": "raw",
      "source": "%cd /home/nbuser/library/DP/Data/ESTIMATES/\nwith open(\"SM.pickle\", \"rb\") as handle:\n    r, o = pickle.load(handle)\nlm = MSE(tr, r, o, n, LBDM)()\nnm = MSE(tr, r, o, n, NBDM)()\n%cd /home/nbuser/library/DP/Data/MSE/MAD\nwith open('MADSM.pickle', 'wb') as handle:\n    pickle.dump((lm, nm), handle, pickle.HIGHEST_PROTOCOL)",
      "metadata": {}
    },
    {
      "cell_type": "raw",
      "source": "%cd /home/nbuser/library/DP/Data/ESTIMATES/\nwith open(\"SS.pickle\", \"rb\") as handle:\n    r, o = pickle.load(handle)\nlm = MSE(tr, r, o, n, LBDM)()\nnm = MSE(tr, r, o, n, NBDM)()\n%cd /home/nbuser/library/DP/Data/MSE/MAD\nwith open('MADSS.pickle', 'wb') as handle:\n    pickle.dump((lm, nm), handle, pickle.HIGHEST_PROTOCOL)",
      "metadata": {}
    }
  ]
}