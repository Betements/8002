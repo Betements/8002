{
  "metadata": {
    "language_info": {
      "mimetype": "text/x-python",
      "nbconvert_exporter": "python",
      "name": "python",
      "pygments_lexer": "ipython3",
      "version": "3.6.6",
      "file_extension": ".py",
      "codemirror_mode": {
        "version": 3,
        "name": "ipython"
      }
    },
    "kernelspec": {
      "name": "python36",
      "display_name": "Python 3.6",
      "language": "python"
    }
  },
  "nbformat_minor": 2,
  "nbformat": 4,
  "cells": [
    {
      "cell_type": "code",
      "source": "# Import Algorithms (& Libraries)\n%cd /home/nbuser/library/DP/\n%run Methods.ipynb",
      "metadata": {
        "trusted": true
      },
      "execution_count": 1,
      "outputs": [
        {
          "text": "/home/nbuser/library/DP\n",
          "name": "stdout",
          "output_type": "stream"
        }
      ]
    },
    {
      "cell_type": "code",
      "source": "# Define Methods\nLBM = [\"Laplace\", \"BETA\", \"MOSE\"]\nNBM = [\"Gaussian\", \"BETA\", \"MOSE\"]\nLBMC = [\"Laplace\", \"BETA\", \"MOSE\", \"Correct\"]\n\nLBDI = [\"Laplace\", \"BETA\", \"DWORK\", \"IQR\"]\nNBDI = [\"Gaussian\", \"BETA\", \"DWORK\", \"IQR\"]\n\nLBDM = [\"Laplace\", \"BETA\", \"DWORK\", \"MAD\"]\nNBDM = [\"Gaussian\", \"BETA\", \"DWORK\", \"MAD\"]",
      "metadata": {
        "trusted": true
      },
      "execution_count": 2,
      "outputs": []
    },
    {
      "cell_type": "code",
      "source": "%cd /home/nbuser/library/DP/Data/DATA/\nwith open(\"99C.pickle\", \"rb\") as handle:\n    x, y, n, v = pickle.load(handle)\n%cd /home/nbuser/library/DP/Data/ESTIMATES/\nwith open(\"99T.pickle\", \"rb\") as handle:\n    tr, to = pickle.load(handle)",
      "metadata": {
        "trusted": true
      },
      "execution_count": 3,
      "outputs": [
        {
          "text": "/home/nbuser/library/DP/Data/DATA\n/home/nbuser/library/DP/Data/ESTIMATES\n",
          "name": "stdout",
          "output_type": "stream"
        }
      ]
    },
    {
      "cell_type": "raw",
      "source": "1",
      "metadata": {}
    },
    {
      "cell_type": "code",
      "source": "%cd /home/nbuser/library/DP/Data/ESTIMATES/\nwith open(\"99O.pickle\", \"rb\") as handle:\n    r, o = pickle.load(handle)\nlm = MSE(tr, r, o, n, LBM)()\nnm = MSE(tr, r, o, n, NBM)()\nlmc = MSE(tr, r, o, n, LBMC)()\n%cd /home/nbuser/library/DP/Data/MSE/MOS\nwith open('M99O.pickle', 'wb') as handle:\n    pickle.dump((lm, nm, lmc), handle, pickle.HIGHEST_PROTOCOL)",
      "metadata": {
        "trusted": true
      },
      "execution_count": 4,
      "outputs": [
        {
          "text": "/home/nbuser/library/DP/Data/ESTIMATES\n/home/nbuser/library/DP/Data/MSE/MOS\n",
          "name": "stdout",
          "output_type": "stream"
        }
      ]
    },
    {
      "cell_type": "code",
      "source": "%cd /home/nbuser/library/DP/Data/ESTIMATES/\nwith open(\"99W.pickle\", \"rb\") as handle:\n    r, o = pickle.load(handle)\nlm = MSE(tr, r, o, n, LBM)()\nnm = MSE(tr, r, o, n, NBM)()\nlmc = MSE(tr, r, o, n, LBMC)()\n%cd /home/nbuser/library/DP/Data/MSE/MOS\nwith open('M99W.pickle', 'wb') as handle:\n    pickle.dump((lm, nm, lmc), handle, pickle.HIGHEST_PROTOCOL)",
      "metadata": {
        "trusted": true
      },
      "execution_count": 5,
      "outputs": [
        {
          "text": "/home/nbuser/library/DP/Data/ESTIMATES\n/home/nbuser/library/DP/Data/MSE/MOS\n",
          "name": "stdout",
          "output_type": "stream"
        }
      ]
    },
    {
      "cell_type": "code",
      "source": "%cd /home/nbuser/library/DP/Data/ESTIMATES/\nwith open(\"99M.pickle\", \"rb\") as handle:\n    r, o = pickle.load(handle)\nlm = MSE(tr, r, o, n, LBM)()\nnm = MSE(tr, r, o, n, NBM)()\nlmc = MSE(tr, r, o, n, LBMC)()\n%cd /home/nbuser/library/DP/Data/MSE/MOS\nwith open('M99M.pickle', 'wb') as handle:\n    pickle.dump((lm, nm, lmc), handle, pickle.HIGHEST_PROTOCOL)",
      "metadata": {
        "trusted": true
      },
      "execution_count": 6,
      "outputs": [
        {
          "text": "/home/nbuser/library/DP/Data/ESTIMATES\n/home/nbuser/library/DP/Data/MSE/MOS\n",
          "name": "stdout",
          "output_type": "stream"
        }
      ]
    },
    {
      "cell_type": "code",
      "source": "%cd /home/nbuser/library/DP/Data/ESTIMATES/\nwith open(\"99S.pickle\", \"rb\") as handle:\n    r, o = pickle.load(handle)\nlm = MSE(tr, r, o, n, LBM)()\nnm = MSE(tr, r, o, n, NBM)()\nlmc = MSE(tr, r, o, n, LBMC)()\n%cd /home/nbuser/library/DP/Data/MSE/MOS\nwith open('M99S.pickle', 'wb') as handle:\n    pickle.dump((lm, nm, lmc), handle, pickle.HIGHEST_PROTOCOL)",
      "metadata": {
        "trusted": true
      },
      "execution_count": 7,
      "outputs": [
        {
          "text": "/home/nbuser/library/DP/Data/ESTIMATES\n/home/nbuser/library/DP/Data/MSE/MOS\n",
          "name": "stdout",
          "output_type": "stream"
        }
      ]
    },
    {
      "cell_type": "raw",
      "source": "2",
      "metadata": {}
    },
    {
      "cell_type": "code",
      "source": "%cd /home/nbuser/library/DP/Data/ESTIMATES/\nwith open(\"99O.pickle\", \"rb\") as handle:\n    r, o = pickle.load(handle)\nlm = MSE(tr, r, o, n, LBDI)()\nnm = MSE(tr, r, o, n, NBDI)()\n%cd /home/nbuser/library/DP/Data/MSE/IQR\nwith open('I99O.pickle', 'wb') as handle:\n    pickle.dump((lm, nm), handle, pickle.HIGHEST_PROTOCOL)",
      "metadata": {
        "trusted": true
      },
      "execution_count": 8,
      "outputs": [
        {
          "text": "/home/nbuser/library/DP/Data/ESTIMATES\n",
          "name": "stdout",
          "output_type": "stream"
        },
        {
          "text": "/home/nbuser/anaconda3_501/lib/python3.6/site-packages/ipykernel/__main__.py:27: RuntimeWarning: All-NaN axis encountered\n/home/nbuser/anaconda3_501/lib/python3.6/site-packages/ipykernel/__main__.py:33: RuntimeWarning: Mean of empty slice\n",
          "name": "stderr",
          "output_type": "stream"
        },
        {
          "text": "/home/nbuser/library/DP/Data/MSE/IQR\n",
          "name": "stdout",
          "output_type": "stream"
        }
      ]
    },
    {
      "cell_type": "code",
      "source": "%cd /home/nbuser/library/DP/Data/ESTIMATES/\nwith open(\"99W.pickle\", \"rb\") as handle:\n    r, o = pickle.load(handle)\nlm = MSE(tr, r, o, n, LBDI)()\nnm = MSE(tr, r, o, n, NBDI)()\n%cd /home/nbuser/library/DP/Data/MSE/IQR\nwith open('I99W.pickle', 'wb') as handle:\n    pickle.dump((lm, nm), handle, pickle.HIGHEST_PROTOCOL)",
      "metadata": {
        "trusted": true
      },
      "execution_count": 9,
      "outputs": [
        {
          "text": "/home/nbuser/library/DP/Data/ESTIMATES\n",
          "name": "stdout",
          "output_type": "stream"
        },
        {
          "text": "/home/nbuser/anaconda3_501/lib/python3.6/site-packages/ipykernel/__main__.py:27: RuntimeWarning: All-NaN axis encountered\n/home/nbuser/anaconda3_501/lib/python3.6/site-packages/ipykernel/__main__.py:33: RuntimeWarning: Mean of empty slice\n",
          "name": "stderr",
          "output_type": "stream"
        },
        {
          "text": "/home/nbuser/library/DP/Data/MSE/IQR\n",
          "name": "stdout",
          "output_type": "stream"
        }
      ]
    },
    {
      "cell_type": "code",
      "source": "%cd /home/nbuser/library/DP/Data/ESTIMATES/\nwith open(\"99M.pickle\", \"rb\") as handle:\n    r, o = pickle.load(handle)\nlm = MSE(tr, r, o, n, LBDI)()\nnm = MSE(tr, r, o, n, NBDI)()\n%cd /home/nbuser/library/DP/Data/MSE/IQR\nwith open('I99M.pickle', 'wb') as handle:\n    pickle.dump((lm, nm), handle, pickle.HIGHEST_PROTOCOL)",
      "metadata": {
        "trusted": true
      },
      "execution_count": 10,
      "outputs": [
        {
          "text": "/home/nbuser/library/DP/Data/ESTIMATES\n",
          "name": "stdout",
          "output_type": "stream"
        },
        {
          "text": "/home/nbuser/anaconda3_501/lib/python3.6/site-packages/ipykernel/__main__.py:27: RuntimeWarning: All-NaN axis encountered\n/home/nbuser/anaconda3_501/lib/python3.6/site-packages/ipykernel/__main__.py:33: RuntimeWarning: Mean of empty slice\n",
          "name": "stderr",
          "output_type": "stream"
        },
        {
          "text": "/home/nbuser/library/DP/Data/MSE/IQR\n",
          "name": "stdout",
          "output_type": "stream"
        }
      ]
    },
    {
      "cell_type": "code",
      "source": "%cd /home/nbuser/library/DP/Data/ESTIMATES/\nwith open(\"99S.pickle\", \"rb\") as handle:\n    r, o = pickle.load(handle)\nlm = MSE(tr, r, o, n, LBDI)()\nnm = MSE(tr, r, o, n, NBDI)()\n%cd /home/nbuser/library/DP/Data/MSE/IQR\nwith open('I99S.pickle', 'wb') as handle:\n    pickle.dump((lm, nm), handle, pickle.HIGHEST_PROTOCOL)",
      "metadata": {
        "trusted": true
      },
      "execution_count": 11,
      "outputs": [
        {
          "text": "/home/nbuser/library/DP/Data/ESTIMATES\n",
          "name": "stdout",
          "output_type": "stream"
        },
        {
          "text": "/home/nbuser/anaconda3_501/lib/python3.6/site-packages/ipykernel/__main__.py:27: RuntimeWarning: All-NaN axis encountered\n/home/nbuser/anaconda3_501/lib/python3.6/site-packages/ipykernel/__main__.py:33: RuntimeWarning: Mean of empty slice\n",
          "name": "stderr",
          "output_type": "stream"
        },
        {
          "text": "/home/nbuser/library/DP/Data/MSE/IQR\n",
          "name": "stdout",
          "output_type": "stream"
        }
      ]
    },
    {
      "cell_type": "raw",
      "source": "3",
      "metadata": {}
    },
    {
      "cell_type": "raw",
      "source": "%cd /home/nbuser/library/DP/Data/ESTIMATES/\nwith open(\"99O.pickle\", \"rb\") as handle:\n    r, o = pickle.load(handle)\nlm = MSE(tr, r, o, n, LBDI)()\nnm = MSE(tr, r, o, n, NBDI)()\n%cd /home/nbuser/library/DP/Data/MSE/MAD\nwith open('MAD99O.pickle', 'wb') as handle:\n    pickle.dump((lm, nm), handle, pickle.HIGHEST_PROTOCOL)",
      "metadata": {}
    },
    {
      "cell_type": "raw",
      "source": "%cd /home/nbuser/library/DP/Data/ESTIMATES/\nwith open(\"99W.pickle\", \"rb\") as handle:\n    r, o = pickle.load(handle)\nlm = MSE(tr, r, o, n, LBDI)()\nnm = MSE(tr, r, o, n, NBDI)()\n%cd /home/nbuser/library/DP/Data/MSE/MAD\nwith open('MAD99W.pickle', 'wb') as handle:\n    pickle.dump((lm, nm), handle, pickle.HIGHEST_PROTOCOL)",
      "metadata": {}
    },
    {
      "cell_type": "raw",
      "source": "%cd /home/nbuser/library/DP/Data/ESTIMATES/\nwith open(\"99M.pickle\", \"rb\") as handle:\n    r, o = pickle.load(handle)\nlm = MSE(tr, r, o, n, LBDI)()\nnm = MSE(tr, r, o, n, NBDI)()\n%cd /home/nbuser/library/DP/Data/MSE/MAD\nwith open('MAD99M.pickle', 'wb') as handle:\n    pickle.dump((lm, nm), handle, pickle.HIGHEST_PROTOCOL)",
      "metadata": {}
    },
    {
      "cell_type": "raw",
      "source": "%cd /home/nbuser/library/DP/Data/ESTIMATES/\nwith open(\"99S.pickle\", \"rb\") as handle:\n    r, o = pickle.load(handle)\nlm = MSE(tr, r, o, n, LBDI)()\nnm = MSE(tr, r, o, n, NBDI)()\n%cd /home/nbuser/library/DP/Data/MSE/MAD\nwith open('MAD99S.pickle', 'wb') as handle:\n    pickle.dump((lm, nm), handle, pickle.HIGHEST_PROTOCOL)",
      "metadata": {}
    }
  ]
}