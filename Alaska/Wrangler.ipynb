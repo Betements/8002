{
  "metadata": {
    "language_info": {
      "mimetype": "text/x-python",
      "nbconvert_exporter": "python",
      "name": "python",
      "pygments_lexer": "ipython3",
      "version": "3.6.6",
      "file_extension": ".py",
      "codemirror_mode": {
        "version": 3,
        "name": "ipython"
      }
    },
    "kernelspec": {
      "name": "python36",
      "display_name": "Python 3.6",
      "language": "python"
    }
  },
  "nbformat_minor": 2,
  "nbformat": 4,
  "cells": [
    {
      "cell_type": "code",
      "source": "# Local Import\nimport numpy as np\nimport pandas as pd\nimport pickle",
      "metadata": {
        "trusted": true
      },
      "execution_count": 2,
      "outputs": []
    },
    {
      "cell_type": "code",
      "source": "%cd /home/nbuser/library/DP/Alaska/\np_df1 = pd.read_csv('Alaska2000_5PUMS_Household.csv')\np_df2 = pd.read_csv('Alaska2000_5PUMS_Person.csv')\ndf = pd.merge(p_df2, p_df1, on='serial_no')\ndf = df.fillna({'RENT':0, 'VALUE':0, 'INCTOT':0})\ndf = df.rename(columns={'SUBSAMPL': 'Cell'})",
      "metadata": {
        "trusted": true
      },
      "execution_count": 80,
      "outputs": [
        {
          "text": "/home/nbuser/library/DP/Alaska\n",
          "name": "stdout",
          "output_type": "stream"
        }
      ]
    },
    {
      "cell_type": "code",
      "source": "np.nanpercentile(df.INCTOT, 99.5)",
      "metadata": {
        "trusted": true
      },
      "execution_count": null,
      "outputs": []
    },
    {
      "cell_type": "code",
      "source": "rent = [df.RENT[i] / 4.35 * 1000 for i in range(len(df.RENT))]\nrenta = np.asarray(rent)\nrenta[0]=0\nrenta[np.logical_and(np.greater_equal(renta, 1), np.less(renta, 10000))]=1\nrenta[np.logical_and(np.greater_equal(renta, 10000), np.less(renta, 14999))]=2\nrenta[np.logical_and(np.greater_equal(renta, 15000), np.less(renta, 19999))]=3\nrenta[np.logical_and(np.greater_equal(renta, 20000), np.less(renta, 24999))]=4\nrenta[np.logical_and(np.greater_equal(renta, 25000), np.less(renta, 29999))]=5\nrenta[np.logical_and(np.greater_equal(renta, 30000), np.less(renta, 34999))]=6\nrenta[np.logical_and(np.greater_equal(renta, 35000), np.less(renta, 39999))]=7\nrenta[np.logical_and(np.greater_equal(renta, 40000), np.less(renta, 49999))]=8\nrenta[np.logical_and(np.greater_equal(renta, 50000), np.less(renta, 59999))]=9\nrenta[np.logical_and(np.greater_equal(renta, 60000), np.less(renta, 69999))]=10\nrenta[np.logical_and(np.greater_equal(renta, 70000), np.less(renta, 79999))]=11\nrenta[np.logical_and(np.greater_equal(renta, 80000), np.less(renta, 89999))]=12\nrenta[np.logical_and(np.greater_equal(renta, 90000), np.less(renta, 99999))]=13\nrenta[np.logical_and(np.greater_equal(renta, 100000), np.less(renta, 124999))]=14\nrenta[np.logical_and(np.greater_equal(renta, 125000), np.less(renta, 149999))]=15\nrenta[np.logical_and(np.greater_equal(renta, 150000), np.less(renta, 174999))]=16\nrenta[np.logical_and(np.greater_equal(renta, 175000), np.less(renta, 199999))]=17\nrenta[np.logical_and(np.greater_equal(renta, 200000), np.less(renta, 249999))]=18\nrenta[np.logical_and(np.greater_equal(renta, 250000), np.less(renta, 299999))]=19\nrenta[np.logical_and(np.greater_equal(renta, 300000), np.less(renta, 399999))]=20\nrenta[np.logical_and(np.greater_equal(renta, 400000), np.less(renta, 499999))]=21\nrenta[np.logical_and(np.greater_equal(renta, 500000), np.less(renta, 749999))]=22\nrenta[np.logical_and(np.greater_equal(renta, 750000), np.less(renta, 999999))]=23\nrenta[np.greater_equal(renta, 100000)]=24",
      "metadata": {
        "trusted": true
      },
      "execution_count": 81,
      "outputs": []
    },
    {
      "cell_type": "code",
      "source": "df.RENT = renta\ndf.VALUE = df.RENT + df.VALUE\ndf.RENT[df.RENT > 0] = True\ndf.RENT[df.RENT == 0] = False\ndf = df[df.TENURE < 4]\ndf = df.dropna(subset=['YRBUILT'])\n# df = df[df.INCTOT >= np.nanpercentile(df.INCTOT, 90)]\ndf = df[df.INCTOT >= np.nanpercentile(df.INCTOT, 99.5)]",
      "metadata": {
        "trusted": true
      },
      "execution_count": 82,
      "outputs": [
        {
          "text": "/home/nbuser/anaconda3_501/lib/python3.6/site-packages/ipykernel/__main__.py:3: SettingWithCopyWarning: \nA value is trying to be set on a copy of a slice from a DataFrame\n\nSee the caveats in the documentation: http://pandas.pydata.org/pandas-docs/stable/indexing.html#indexing-view-versus-copy\n  app.launch_new_instance()\n",
          "name": "stderr",
          "output_type": "stream"
        }
      ]
    },
    {
      "cell_type": "code",
      "source": "DF = df.drop(['SEX', 'RACE3', 'RENT', 'TENURE'], axis=1)\n# df2 = df1.drop_duplicates('serial_no')\n\n#Regression 1 Income Total v AGE\nIA = DF.drop(['YRBUILT', 'HINC', 'VALUE', 'serial_no'], axis=1)\nIA = IA.reindex(columns=['Cell', 'INCTOT', 'age', 'PUMA5'])\n\n# # Regression 2 Income Total v VALUE\n# IV = DF.drop(['HINC', 'YRBUILT', 'age', 'serial_no'], axis=1)\n# IV = IV.reindex(columns=['Cell', 'INCTOT', 'VALUE', 'PUMA5'])\n\n# Regression 3 Income Total v AGE v VALUE\nIAV = DF.drop(['YRBUILT', 'HINC', 'serial_no'], axis=1)\nIAV = IAV.reindex(columns=['Cell', 'INCTOT', 'age', 'VALUE', 'PUMA5'])",
      "metadata": {
        "trusted": true
      },
      "execution_count": 83,
      "outputs": []
    },
    {
      "cell_type": "raw",
      "source": "IAV = IAV.drop(['Cell'], axis=1)\nIAV = IAV.reindex(columns=['PUMA5', 'INCTOT', 'age', 'VALUE'])",
      "metadata": {}
    },
    {
      "cell_type": "raw",
      "source": "IAV = IAV.rename(columns={'PUMA5': 'Cell'})",
      "metadata": {}
    },
    {
      "cell_type": "raw",
      "source": "M = False\nN = not M",
      "metadata": {}
    },
    {
      "cell_type": "raw",
      "source": "a = Wrangle(IAV, aggregate = M)\nX, Y, n, v = a()",
      "metadata": {}
    },
    {
      "cell_type": "raw",
      "source": "def UII(x, boo=True):\n    ''' For Multivariate Regression '''\n    if boo:\n        mm = np.asarray(x).T\n    else:\n        mm = np.asarray([i for j in x for i in j]).T\n    mimi = np.asarray([np.min(i) for i in mm])\n    mama = np.asarray([np.max(i) for i in mm])\n    if boo:\n        return (x - mimi) / (mama - mimi)\n    else:\n        return [(i - mimi) / (mama - mimi) for i in x]",
      "metadata": {}
    },
    {
      "cell_type": "code",
      "source": "# x = UI(X, N)\ny = UI(Y, N)\nx = UII(X)",
      "metadata": {
        "trusted": true
      },
      "execution_count": 114,
      "outputs": []
    },
    {
      "cell_type": "raw",
      "source": "%cd /home/nbuser/library/DP/Data/\nwith open('99IAVC.pickle', 'wb') as handle:\n    pickle.dump((x, y, n, v), handle, pickle.HIGHEST_PROTOCOL)",
      "metadata": {}
    },
    {
      "cell_type": "raw",
      "source": "with open('Alaska_VH.pickle', 'wb') as handle:\n    pickle.dump((ValHInc), handle, pickle.HIGHEST_PROTOCOL)\nwith open('Alaska_YA.pickle', 'wb') as handle:\n    pickle.dump((YrBAge), handle, pickle.HIGHEST_PROTOCOL)",
      "metadata": {}
    },
    {
      "cell_type": "raw",
      "source": "%cd /home/nbuser/library/DP/Data/\nwith open('99IAVC.pickle', 'rb') as handle:\n    x, y, n, v = pickle.load(handle)",
      "metadata": {}
    },
    {
      "cell_type": "code",
      "source": "# Define Methods\n# Regression\nrO = [\"OLS\", \"SE\"]\nrW = [\"OLS\", \"Winsorize\", \"SE\"]\nrM = [\"MM\", \"Winsorize\", \"SE\"]\nrMM = [\"MM\", \"Winsorize\", \"SE\", \"500\"]\nrS = [\"SMDM\", \"Winsorize\", \"SE\"]",
      "metadata": {
        "trusted": true
      },
      "execution_count": 39,
      "outputs": []
    },
    {
      "cell_type": "code",
      "source": "# Import Algorithms (& Libraries)\n%cd /home/nbuser/library/DP/\n%run Methods.ipynb",
      "metadata": {
        "trusted": true
      },
      "execution_count": 26,
      "outputs": [
        {
          "text": "/home/nbuser/library/DP\n",
          "name": "stdout",
          "output_type": "stream"
        }
      ]
    },
    {
      "cell_type": "code",
      "source": "R0, O0 = Methods(X, Y, N, v, rM)()",
      "metadata": {
        "trusted": true
      },
      "execution_count": 6,
      "outputs": []
    },
    {
      "cell_type": "code",
      "source": "print(npl(R0.T[0].T)[1])\nnpl(O0.T[0].T)[1]",
      "metadata": {
        "trusted": true
      },
      "execution_count": 55,
      "outputs": [
        {
          "text": "[ 0.28452297  0.00825714 -0.19411851]\n",
          "name": "stdout",
          "output_type": "stream"
        },
        {
          "execution_count": 55,
          "output_type": "execute_result",
          "data": {
            "text/plain": "array([[ 0.13065006,  0.10989919,  0.16490551],\n       [ 0.26791503,  0.02984753, -0.2078137 ],\n       [ 0.24341557, -0.04506442,  0.20647748],\n       [ 0.31728789, -0.03278297, -0.21488934],\n       [ 0.43685626, -0.20360153, -0.19432445],\n       [ 0.22167454, -0.05925551,  0.41516152],\n       [ 0.24147231,  0.00211657,  0.04241238],\n       [ 0.18189139, -0.01557427,  0.45366545]])"
          },
          "metadata": {}
        }
      ]
    },
    {
      "cell_type": "code",
      "source": "print(npl(R1.T[0].T)[1])\nnpl(O1.T[0].T)[1]",
      "metadata": {
        "trusted": true
      },
      "execution_count": 61,
      "outputs": [
        {
          "text": "[ 0.28452297  0.00825714 -0.19411851]\n",
          "name": "stdout",
          "output_type": "stream"
        },
        {
          "execution_count": 61,
          "output_type": "execute_result",
          "data": {
            "text/plain": "array([[ 0.13065006,  0.10989919,  0.16490551],\n       [ 0.29239007, -0.0008149 , -0.24023555],\n       [ 0.25626936, -0.07803134,  0.22722366],\n       [ 0.32673185, -0.05084648, -0.21920927],\n       [ 0.45655529, -0.23371442, -0.17105809],\n       [ 0.217045  , -0.06143128,  0.43174843],\n       [ 0.24145392,  0.00213798,  0.04243902],\n       [ 0.18570591, -0.02982647,  0.47471907]])"
          },
          "metadata": {}
        }
      ]
    },
    {
      "cell_type": "raw",
      "source": "R1, O1 = Methods(X, Y, N, v, rMM)()",
      "metadata": {}
    },
    {
      "cell_type": "code",
      "source": "ATT = npl(R1.T[0].T)[1]\nATAT = npl(O1.T[0].T)[1][1]\nla.norm(ATT - ATAT)",
      "metadata": {
        "trusted": true
      },
      "execution_count": 71,
      "outputs": [
        {
          "execution_count": 71,
          "output_type": "execute_result",
          "data": {
            "text/plain": "0.047654740342158136"
          },
          "metadata": {}
        }
      ]
    },
    {
      "cell_type": "raw",
      "source": "%cd /home/nbuser/library/DP/Data/\nwith open('IAV.pickle', 'wb') as handle:\n    pickle.dump((r, o), handle, pickle.HIGHEST_PROTOCOL)",
      "metadata": {}
    },
    {
      "cell_type": "code",
      "source": "# Define Methods\nLBD = [\"Laplace\", \"BETA\", \"DWORK\"]\nLBM = [\"Laplace\", \"BETA\", \"MOSE\"]\nNBD = [\"Gaussian\", \"BETA\", \"DWORK\"]\nNBM = [\"Gaussian\", \"BETA\", \"MOSE\"]\n\nLS = [\"Laplace\", \"SE\"]\nNS = [\"Gaussian\", \"SE\"]",
      "metadata": {
        "trusted": true
      },
      "execution_count": 2,
      "outputs": []
    },
    {
      "cell_type": "code",
      "source": "%cd /home/nbuser/library/DP/Data/\nwith open(\"99IAVC.pickle\", \"rb\") as handle:\n    X, Y, N, v = pickle.load(handle)\nwith open(\"99IAVT.pickle\", \"rb\") as handle:\n    tr, to = pickle.load(handle)",
      "metadata": {
        "trusted": true
      },
      "execution_count": 3,
      "outputs": [
        {
          "text": "/home/nbuser/library/DP/Data\n",
          "name": "stdout",
          "output_type": "stream"
        }
      ]
    },
    {
      "cell_type": "code",
      "source": "with open(\"99IAVS.pickle\", \"rb\") as handle:\n    r, o = pickle.load(handle)",
      "metadata": {
        "trusted": true
      },
      "execution_count": 4,
      "outputs": []
    },
    {
      "cell_type": "code",
      "source": "# Test Dwork\ndwr = DWORK(tr, r, o, 0.5, N, LBD)",
      "metadata": {
        "trusted": true
      },
      "execution_count": 7,
      "outputs": []
    },
    {
      "cell_type": "code",
      "source": "",
      "metadata": {},
      "execution_count": null,
      "outputs": []
    },
    {
      "cell_type": "code",
      "source": "ld = MSE(tr, r, o, N, LBD)()\nlm = MSE(tr, r, o, N, LBM)()",
      "metadata": {
        "trusted": true
      },
      "execution_count": 177,
      "outputs": [
        {
          "text": "/home/nbuser/anaconda3_501/lib/python3.6/site-packages/ipykernel/__main__.py:26: RuntimeWarning: All-NaN axis encountered\n/home/nbuser/anaconda3_501/lib/python3.6/site-packages/ipykernel/__main__.py:32: RuntimeWarning: Mean of empty slice\n",
          "name": "stderr",
          "output_type": "stream"
        }
      ]
    },
    {
      "cell_type": "code",
      "source": "nd = MSE(tr, r, o, N, NBD)()\nnm = MSE(tr, r, o, N, NBM)()",
      "metadata": {
        "trusted": true
      },
      "execution_count": 179,
      "outputs": [
        {
          "text": "/home/nbuser/anaconda3_501/lib/python3.6/site-packages/ipykernel/__main__.py:26: RuntimeWarning: All-NaN axis encountered\n/home/nbuser/anaconda3_501/lib/python3.6/site-packages/ipykernel/__main__.py:32: RuntimeWarning: Mean of empty slice\n",
          "name": "stderr",
          "output_type": "stream"
        }
      ]
    },
    {
      "cell_type": "code",
      "source": "",
      "metadata": {
        "trusted": true
      },
      "execution_count": null,
      "outputs": []
    },
    {
      "cell_type": "code",
      "source": "with open('MSE_IAVS.pickle', 'wb') as handle:\n    pickle.dump((ld, lm, nd, nm), handle, pickle.HIGHEST_PROTOCOL)",
      "metadata": {
        "trusted": true
      },
      "execution_count": 181,
      "outputs": []
    },
    {
      "cell_type": "raw",
      "source": "\n\n\n\n\n\n\n\n\n\n\n\n\n\n\n\n",
      "metadata": {}
    }
  ]
}