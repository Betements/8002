{
  "cells": [
    {
      "metadata": {
        "trusted": true
      },
      "cell_type": "code",
      "source": "# Local Import\nimport numpy as np\nimport pandas as pd\nimport pickle",
      "execution_count": 1,
      "outputs": []
    },
    {
      "metadata": {
        "trusted": true
      },
      "cell_type": "code",
      "source": "p_df1 = pd.read_csv('Alaska2000_5PUMS_Household.csv')\np_df2 = pd.read_csv('Alaska2000_5PUMS_Person.csv')\ndf = pd.merge(p_df2, p_df1, on='serial_no')\ndf = df.fillna({'RENT':0, 'VALUE':0})\ndf = df.rename(columns={'SUBSAMPL': 'Cell'})\nrent = [df.RENT[i] / 4.35 * 1000 for i in range(len(df.RENT))]\nrenta = np.asarray(rent)",
      "execution_count": 2,
      "outputs": []
    },
    {
      "metadata": {
        "trusted": true
      },
      "cell_type": "code",
      "source": "renta[0]=0\nrenta[np.logical_and(np.greater_equal(renta, 1), np.less(renta, 10000))]=1\nrenta[np.logical_and(np.greater_equal(renta, 10000), np.less(renta, 14999))]=2\nrenta[np.logical_and(np.greater_equal(renta, 15000), np.less(renta, 19999))]=3\nrenta[np.logical_and(np.greater_equal(renta, 20000), np.less(renta, 24999))]=4\nrenta[np.logical_and(np.greater_equal(renta, 25000), np.less(renta, 29999))]=5\nrenta[np.logical_and(np.greater_equal(renta, 30000), np.less(renta, 34999))]=6\nrenta[np.logical_and(np.greater_equal(renta, 35000), np.less(renta, 39999))]=7\nrenta[np.logical_and(np.greater_equal(renta, 40000), np.less(renta, 49999))]=8\nrenta[np.logical_and(np.greater_equal(renta, 50000), np.less(renta, 59999))]=9\nrenta[np.logical_and(np.greater_equal(renta, 60000), np.less(renta, 69999))]=10\nrenta[np.logical_and(np.greater_equal(renta, 70000), np.less(renta, 79999))]=11\nrenta[np.logical_and(np.greater_equal(renta, 80000), np.less(renta, 89999))]=12\nrenta[np.logical_and(np.greater_equal(renta, 90000), np.less(renta, 99999))]=13\nrenta[np.logical_and(np.greater_equal(renta, 100000), np.less(renta, 124999))]=14\nrenta[np.logical_and(np.greater_equal(renta, 125000), np.less(renta, 149999))]=15\nrenta[np.logical_and(np.greater_equal(renta, 150000), np.less(renta, 174999))]=16\nrenta[np.logical_and(np.greater_equal(renta, 175000), np.less(renta, 199999))]=17\nrenta[np.logical_and(np.greater_equal(renta, 200000), np.less(renta, 249999))]=18\nrenta[np.logical_and(np.greater_equal(renta, 250000), np.less(renta, 299999))]=19\nrenta[np.logical_and(np.greater_equal(renta, 300000), np.less(renta, 399999))]=20\nrenta[np.logical_and(np.greater_equal(renta, 400000), np.less(renta, 499999))]=21\nrenta[np.logical_and(np.greater_equal(renta, 500000), np.less(renta, 749999))]=22\nrenta[np.logical_and(np.greater_equal(renta, 750000), np.less(renta, 999999))]=23\nrenta[np.greater_equal(renta, 100000)]=24\ndf.RENT = renta\ndf.VALUE = (df.RENT + df.VALUE) / 24\ndf.age = df.age / max(df.age)\ndf.HINC = df.HINC / max(df.HINC)\ndf = df.dropna(subset=['YRBUILT'])\ndf.YRBUILT = df.YRBUILT / max(df.YRBUILT)\ndf = df[df.TENURE < 4]\ndf.RENT[df.RENT > 0] = True\ndf.RENT[df.RENT == 0] = False",
      "execution_count": 3,
      "outputs": []
    },
    {
      "metadata": {
        "trusted": true
      },
      "cell_type": "code",
      "source": "df1 = df.drop(['SEX', 'INCTOT', 'RACE3', 'TENURE'], axis=1)\n# Regression Value v Household income\ndf2 = df1.drop_duplicates('serial_no')\ndf3 = df2.drop(['age', 'YRBUILT', 'RENT', 'serial_no'], axis=1)\ndf3 = df3.reindex(columns=['Cell', 'VALUE', 'HINC', 'PUMA5'])\n# Regression Yrbuilt v Age\ndf4 = df1.drop(['VALUE', 'HINC', 'RENT', 'serial_no'], axis=1)\ndf4 = df4.reindex(columns=['Cell', 'YRBUILT', 'age', 'PUMA5'])",
      "execution_count": 4,
      "outputs": []
    },
    {
      "metadata": {
        "trusted": true
      },
      "cell_type": "code",
      "source": "ValHInc = df3.groupby('PUMA5')\nYrBAge = df4.groupby('PUMA5')",
      "execution_count": 5,
      "outputs": []
    },
    {
      "metadata": {
        "trusted": true
      },
      "cell_type": "code",
      "source": "# R1\nA101 = df3[df3.PUMA5 == 101]\nA102 = df3[df3.PUMA5 == 102]\nA200 = df3[df3.PUMA5 == 200]\nA300 = df3[df3.PUMA5 == 300]\nA400 = df3[df3.PUMA5 == 400]\n\n# R2\nB101 = df4[df4.PUMA5 == 101]\nB102 = df4[df4.PUMA5 == 102]\nB200 = df4[df4.PUMA5 == 200]\nB300 = df4[df4.PUMA5 == 300]\nB400 = df4[df4.PUMA5 == 400]",
      "execution_count": 143,
      "outputs": []
    },
    {
      "metadata": {
        "trusted": true
      },
      "cell_type": "code",
      "source": "class Wrangle:\n    ''' Data Wrangling Class for Test Data '''\n    def __init__(self, data, aggregate=False):\n        # Numpy-nize Census Tract\n        if 'PUMA5' in data:\n            data = data.drop(['PUMA5'], axis=1)\n        if data.keys()[0] != 'Cell':\n            data = data[data.columns[::-1]]\n        self.Key = data.keys()\n        if aggregate:\n            Y = np.asarray(data.loc[:, self.Key[1]])\n            X = np.asarray(data.loc[:, self.Key[2]])\n            self.N = len(X)\n        else:\n            if len(self.Key) > 3:\n                None\n            else:\n                Cell = np.unique(np.array(data[self.Key[0]])).astype(int)\n                Y = [np.asarray(data.loc[data.loc[:, self.Key[0]]== i, self.Key[1]]) for i in Cell]\n                X = [np.asarray(data.loc[data.loc[:, self.Key[0]]== i, self.Key[2]]) for i in Cell]\n                self.N = np.asarray([len(i) for i in X])\n        self.X = X\n        self.Y = Y \n        self.v = len(self.Key) - 1\n                \n    def __call__(self):\n        return self.X, self.Y, self.N, self.v",
      "execution_count": 144,
      "outputs": []
    },
    {
      "metadata": {
        "trusted": true
      },
      "cell_type": "code",
      "source": "VH101 = Wrangle(A101)\nVH102 = Wrangle(A102)\nVH200 = Wrangle(A200)\nVH300 = Wrangle(A300)\nVH400 = Wrangle(A400)\n\nYA101 = Wrangle(B101)\nYA102 = Wrangle(B102)\nYA200 = Wrangle(B200)\nYA300 = Wrangle(B300)\nYA400 = Wrangle(B400)",
      "execution_count": 149,
      "outputs": []
    },
    {
      "metadata": {
        "trusted": true
      },
      "cell_type": "code",
      "source": "%cd /home/nbuser/library/DP/Data/",
      "execution_count": 9,
      "outputs": [
        {
          "output_type": "stream",
          "text": "/home/nbuser/library/DP/Data\n",
          "name": "stdout"
        }
      ]
    },
    {
      "metadata": {
        "trusted": true
      },
      "cell_type": "code",
      "source": "with open('Alaska_VH.pickle', 'wb') as handle:\n    pickle.dump((ValHInc), handle, pickle.HIGHEST_PROTOCOL)\nwith open('Alaska_YA.pickle', 'wb') as handle:\n    pickle.dump((YrBAge), handle, pickle.HIGHEST_PROTOCOL)",
      "execution_count": 11,
      "outputs": []
    }
  ],
  "metadata": {
    "language_info": {
      "mimetype": "text/x-python",
      "nbconvert_exporter": "python",
      "name": "python",
      "pygments_lexer": "ipython3",
      "version": "3.6.6",
      "file_extension": ".py",
      "codemirror_mode": {
        "version": 3,
        "name": "ipython"
      }
    },
    "kernelspec": {
      "name": "python36",
      "display_name": "Python 3.6",
      "language": "python"
    }
  },
  "nbformat": 4,
  "nbformat_minor": 2
}