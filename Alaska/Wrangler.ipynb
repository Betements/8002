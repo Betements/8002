{
  "metadata": {
    "language_info": {
      "mimetype": "text/x-python",
      "nbconvert_exporter": "python",
      "name": "python",
      "pygments_lexer": "ipython3",
      "version": "3.6.6",
      "file_extension": ".py",
      "codemirror_mode": {
        "version": 3,
        "name": "ipython"
      }
    },
    "kernelspec": {
      "name": "python36",
      "display_name": "Python 3.6",
      "language": "python"
    }
  },
  "nbformat_minor": 2,
  "nbformat": 4,
  "cells": [
    {
      "cell_type": "code",
      "source": "# Local Import\nimport numpy as np\nimport pandas as pd\nimport pickle",
      "metadata": {
        "trusted": true
      },
      "execution_count": null,
      "outputs": []
    },
    {
      "cell_type": "code",
      "source": "%cd /home/nbuser/library/DP/Alaska/\np_df1 = pd.read_csv('Alaska2000_5PUMS_Household.csv')\np_df2 = pd.read_csv('Alaska2000_5PUMS_Person.csv')\ndf = pd.merge(p_df2, p_df1, on='serial_no')\ndf = df.fillna({'RENT':0, 'VALUE':0, 'INCTOT':0})\ndf = df.rename(columns={'SUBSAMPL': 'Cell'})",
      "metadata": {
        "trusted": true
      },
      "execution_count": null,
      "outputs": []
    },
    {
      "cell_type": "code",
      "source": "np.nanpercentile(df.VALUE, 90)",
      "metadata": {
        "trusted": true
      },
      "execution_count": null,
      "outputs": []
    },
    {
      "cell_type": "code",
      "source": "rent = [df.RENT[i] / 4.35 * 1000 for i in range(len(df.RENT))]\nrenta = np.asarray(rent)\nrenta[0]=0\nrenta[np.logical_and(np.greater_equal(renta, 1), np.less(renta, 10000))]=1\nrenta[np.logical_and(np.greater_equal(renta, 10000), np.less(renta, 14999))]=2\nrenta[np.logical_and(np.greater_equal(renta, 15000), np.less(renta, 19999))]=3\nrenta[np.logical_and(np.greater_equal(renta, 20000), np.less(renta, 24999))]=4\nrenta[np.logical_and(np.greater_equal(renta, 25000), np.less(renta, 29999))]=5\nrenta[np.logical_and(np.greater_equal(renta, 30000), np.less(renta, 34999))]=6\nrenta[np.logical_and(np.greater_equal(renta, 35000), np.less(renta, 39999))]=7\nrenta[np.logical_and(np.greater_equal(renta, 40000), np.less(renta, 49999))]=8\nrenta[np.logical_and(np.greater_equal(renta, 50000), np.less(renta, 59999))]=9\nrenta[np.logical_and(np.greater_equal(renta, 60000), np.less(renta, 69999))]=10\nrenta[np.logical_and(np.greater_equal(renta, 70000), np.less(renta, 79999))]=11\nrenta[np.logical_and(np.greater_equal(renta, 80000), np.less(renta, 89999))]=12\nrenta[np.logical_and(np.greater_equal(renta, 90000), np.less(renta, 99999))]=13\nrenta[np.logical_and(np.greater_equal(renta, 100000), np.less(renta, 124999))]=14\nrenta[np.logical_and(np.greater_equal(renta, 125000), np.less(renta, 149999))]=15\nrenta[np.logical_and(np.greater_equal(renta, 150000), np.less(renta, 174999))]=16\nrenta[np.logical_and(np.greater_equal(renta, 175000), np.less(renta, 199999))]=17\nrenta[np.logical_and(np.greater_equal(renta, 200000), np.less(renta, 249999))]=18\nrenta[np.logical_and(np.greater_equal(renta, 250000), np.less(renta, 299999))]=19\nrenta[np.logical_and(np.greater_equal(renta, 300000), np.less(renta, 399999))]=20\nrenta[np.logical_and(np.greater_equal(renta, 400000), np.less(renta, 499999))]=21\nrenta[np.logical_and(np.greater_equal(renta, 500000), np.less(renta, 749999))]=22\nrenta[np.logical_and(np.greater_equal(renta, 750000), np.less(renta, 999999))]=23\nrenta[np.greater_equal(renta, 100000)]=24",
      "metadata": {
        "trusted": true
      },
      "execution_count": null,
      "outputs": []
    },
    {
      "cell_type": "code",
      "source": "df.RENT = renta\ndf.VALUE = df.RENT + df.VALUE\ndf.RENT[df.RENT > 0] = True\ndf.RENT[df.RENT == 0] = False\ndf = df[df.TENURE < 4]\ndf = df.dropna(subset=['YRBUILT'])\n# df = df[df.INCTOT >= np.nanpercentile(df.INCTOT, 90)]\ndf = df[df.INCTOT >= np.nanpercentile(df.INCTOT, 99)]\n# df = df[df.VALUE >= np.nanpercentile(df.VALUE, 99)]",
      "metadata": {
        "trusted": true
      },
      "execution_count": null,
      "outputs": []
    },
    {
      "cell_type": "code",
      "source": "DF = df.drop(['SEX', 'RACE3', 'RENT', 'TENURE'], axis=1)\n# df2 = df1.drop_duplicates('serial_no')\n\n#Regression 1 Income Total v AGE\nIA = DF.drop(['YRBUILT', 'HINC', 'VALUE', 'serial_no'], axis=1)\nIA = IA.reindex(columns=['Cell', 'INCTOT', 'age', 'PUMA5'])\n\n# # Regression 2 Income Total v VALUE\n# IV = DF.drop(['HINC', 'YRBUILT', 'age', 'serial_no'], axis=1)\n# IV = IV.reindex(columns=['Cell', 'INCTOT', 'VALUE', 'PUMA5'])\n\n# Regression 3 Income Total v AGE v VALUE\nIAV = DF.drop(['YRBUILT', 'HINC', 'serial_no'], axis=1)\nIAV = IAV.reindex(columns=['Cell', 'INCTOT', 'age', 'VALUE', 'PUMA5'])",
      "metadata": {
        "trusted": true
      },
      "execution_count": null,
      "outputs": []
    },
    {
      "cell_type": "code",
      "source": "IAV = IAV.drop(['Cell'], axis=1)\nIAV = IAV.reindex(columns=['PUMA5', 'INCTOT', 'age', 'VALUE'])",
      "metadata": {
        "trusted": true
      },
      "execution_count": null,
      "outputs": []
    },
    {
      "cell_type": "code",
      "source": "IAV = IAV.rename(columns={'PUMA5': 'Cell'})",
      "metadata": {
        "trusted": true
      },
      "execution_count": null,
      "outputs": []
    },
    {
      "cell_type": "raw",
      "source": "IAV",
      "metadata": {}
    },
    {
      "cell_type": "code",
      "source": "%cd /home/nbuser/library/DP/\n%run Methods.ipynb",
      "metadata": {
        "trusted": true
      },
      "execution_count": 7,
      "outputs": [
        {
          "text": "/home/nbuser/library/DP\n",
          "name": "stdout",
          "output_type": "stream"
        }
      ]
    },
    {
      "cell_type": "raw",
      "source": "M = False\nN = not M",
      "metadata": {}
    },
    {
      "cell_type": "raw",
      "source": "a = Wrangle(IAV, aggregate = M)\nX, Y, n, v = a()",
      "metadata": {}
    },
    {
      "cell_type": "raw",
      "source": "# x = UI(X, N)\nyy = UI(Y, N)\nxx = UII(X, M)",
      "metadata": {}
    },
    {
      "cell_type": "raw",
      "source": "%cd /home/nbuser/library/DP/Data/DATA/\nwith open('99IAVC.pickle', 'wb') as handle:\n    pickle.dump((xx, yy, n, v), handle, pickle.HIGHEST_PROTOCOL)",
      "metadata": {}
    },
    {
      "cell_type": "raw",
      "source": "# Import Synthetic Data\n%cd '/home/nbuser/library/example_code_implementation_guide/'\nstata = pd.read_stata('private_data_by_cells.dta')\nsynth = stata[stata.columns[::-1]]",
      "metadata": {}
    },
    {
      "cell_type": "raw",
      "source": "\nESTIMATES\n",
      "metadata": {}
    },
    {
      "cell_type": "raw",
      "source": "%cd /home/nbuser/library/DP/Data/DATA/\nwith open('99IAV.pickle', 'rb') as handle:\n    X, Y, N, V = pickle.load(handle)\nwith open('99IAVC.pickle', 'rb') as handle:\n    x, y, n, v = pickle.load(handle)",
      "metadata": {}
    },
    {
      "cell_type": "raw",
      "source": "# Define Methods\n# Regression\nrO = [\"OLS\", \"SE\"]\nrW = [\"OLS\", \"Winsorize\", \"SE\"]\nrM = [\"MM\", \"Winsorize\", \"SE\"]\nrS = [\"SMDM\", \"Winsorize\", \"SE\"]",
      "metadata": {}
    },
    {
      "cell_type": "raw",
      "source": "# tr, to = Methods(X, Y, N, V, rO)()",
      "metadata": {}
    },
    {
      "cell_type": "raw",
      "source": "r, o = Methods(x, y, n, v, rS)()",
      "metadata": {}
    },
    {
      "cell_type": "raw",
      "source": "print(npl(r.T[0].T)[1])\nnpl(o.T[0].T)[1]",
      "metadata": {}
    },
    {
      "cell_type": "raw",
      "source": "%cd /home/nbuser/library/DP/Data/ESTIMATES/\nwith open('99S.pickle', 'wb') as handle:\n    pickle.dump((r, o), handle, pickle.HIGHEST_PROTOCOL)",
      "metadata": {}
    },
    {
      "cell_type": "raw",
      "source": "\n\n\n",
      "metadata": {}
    },
    {
      "cell_type": "raw",
      "source": "MSE",
      "metadata": {}
    },
    {
      "cell_type": "raw",
      "source": "# Define Methods\nLBM = [\"Laplace\", \"BETA\", \"MOSE\"]\nNBM = [\"Gaussian\", \"BETA\", \"MOSE\"]\nLLBM = [\"Laplace\", \"BETA\", \"MOSE\", \"Local\"]\nLNBM = [\"Gaussian\", \"BETA\", \"MOSE\", \"Local\"]\n\nLBDI = [\"Laplace\", \"BETA\", \"DWORK\", \"IQR\"]\nNBDI = [\"Gaussian\", \"BETA\", \"DWORK\", \"IQR\"]\nLBDM = [\"Laplace\", \"BETA\", \"DWORK\", \"MAD\"]\nNBDM = [\"Gaussian\", \"BETA\", \"DWORK\", \"MAD\"]",
      "metadata": {}
    },
    {
      "cell_type": "raw",
      "source": "%cd /home/nbuser/library/DP/Data/DATA/\nwith open(\"IAC.pickle\", \"rb\") as handle:\n    x, y, n, v = pickle.load(handle)\n%cd /home/nbuser/library/DP/Data/ESTIMATES/\nwith open(\"IAT.pickle\", \"rb\") as handle:\n    tr, to = pickle.load(handle)\nwith open(\"IAS.pickle\", \"rb\") as handle:\n    r, o = pickle.load(handle)",
      "metadata": {}
    },
    {
      "cell_type": "raw",
      "source": "%cd /home/nbuser/library/DP/Data/DATA/\nwith open(\"99C.pickle\", \"rb\") as handle:\n    x, y, n, v = pickle.load(handle)\n%cd /home/nbuser/library/DP/Data/ESTIMATES/\nwith open(\"99T.pickle\", \"rb\") as handle:\n    tr, to = pickle.load(handle)\nwith open(\"99S.pickle\", \"rb\") as handle:\n    r, o = pickle.load(handle)",
      "metadata": {}
    },
    {
      "cell_type": "raw",
      "source": "print(r.T[0][0])\no.T[0].T[0]",
      "metadata": {}
    },
    {
      "cell_type": "raw",
      "source": "# 1\nlm = MSE(tr, r, o, n, LBM)()\nnm = MSE(tr, r, o, n, NBM)()",
      "metadata": {}
    },
    {
      "cell_type": "raw",
      "source": "# 2\nlm = MSE(tr, r, o, n, LBDI)()\nnm = MSE(tr, r, o, n, NBDI)()",
      "metadata": {}
    },
    {
      "cell_type": "raw",
      "source": "# 3\nlm = MSE(tr, r, o, n, LBDM)()",
      "metadata": {}
    },
    {
      "cell_type": "raw",
      "source": "nm = MSE(tr, r, o, n, NBDM)()",
      "metadata": {}
    },
    {
      "cell_type": "raw",
      "source": "nm",
      "metadata": {}
    },
    {
      "cell_type": "raw",
      "source": "\"hello\"",
      "metadata": {}
    },
    {
      "cell_type": "raw",
      "source": "%cd /home/nbuser/library/DP/Data/MSE/MOS\nwith open('MIAS.pickle', 'wb') as handle:\n    pickle.dump((lm, nm), handle, pickle.HIGHEST_PROTOCOL)",
      "metadata": {}
    },
    {
      "cell_type": "raw",
      "source": "%cd /home/nbuser/library/DP/Data/MSE/IQR\nwith open('IIAS.pickle', 'wb') as handle:\n    pickle.dump((lm, nm), handle, pickle.HIGHEST_PROTOCOL)",
      "metadata": {}
    },
    {
      "cell_type": "raw",
      "source": "%cd /home/nbuser/library/DP/Data/MSE/MAD\nwith open('MADIS.pickle', 'wb') as handle:\n    pickle.dump((lm, nm), handle, pickle.HIGHEST_PROTOCOL)",
      "metadata": {}
    },
    {
      "cell_type": "raw",
      "source": "\n\n\n\n\n\n\n\n\n\n\n\n\n\n\n\n",
      "metadata": {}
    }
  ]
}