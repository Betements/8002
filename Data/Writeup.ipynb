{
  "metadata": {
    "kernelspec": {
      "name": "python36",
      "display_name": "Python 3.6",
      "language": "python"
    },
    "language_info": {
      "mimetype": "text/x-python",
      "nbconvert_exporter": "python",
      "name": "python",
      "pygments_lexer": "ipython3",
      "version": "3.6.6",
      "file_extension": ".py",
      "codemirror_mode": {
        "version": 3,
        "name": "ipython"
      }
    }
  },
  "nbformat_minor": 2,
  "nbformat": 4,
  "cells": [
    {
      "cell_type": "code",
      "source": "# Import Algorithms (& Libraries)\n%cd /home/nbuser/library/DP/\n%run Methods.ipynb",
      "metadata": {
        "trusted": true
      },
      "execution_count": 9,
      "outputs": [
        {
          "text": "/home/nbuser/library/DP\n",
          "name": "stdout",
          "output_type": "stream"
        }
      ]
    },
    {
      "cell_type": "raw",
      "source": "\n\n\n",
      "metadata": {}
    },
    {
      "cell_type": "raw",
      "source": "Meanwhile",
      "metadata": {}
    },
    {
      "cell_type": "raw",
      "source": "%cd /home/nbuser/library/DP/Data/DATA/\nwith open(\"IAC.pickle\", \"rb\") as handle:\n    x, y, n, v = pickle.load(handle)\n%cd /home/nbuser/library/DP/Data/ESTIMATES/\nwith open(\"IAT.pickle\", \"rb\") as handle:\n    tr, to = pickle.load(handle)\nwith open(\"IAM.pickle\", \"rb\") as handle:\n    r, o = pickle.load(handle)\nLBDM = [\"Laplace\", \"BETA\", \"DWORK\", \"MAD\"]\nNBDM = [\"Gaussian\", \"BETA\", \"DWORK\", \"MAD\"]",
      "metadata": {}
    },
    {
      "cell_type": "raw",
      "source": "# 3\nlm = MSE(tr, r, o, n, LBDM)()",
      "metadata": {}
    },
    {
      "cell_type": "raw",
      "source": "nm = MSE(tr, r, o, n, NBDM)()",
      "metadata": {}
    },
    {
      "cell_type": "raw",
      "source": "nm",
      "metadata": {}
    },
    {
      "cell_type": "raw",
      "source": "%cd /home/nbuser/library/DP/Data/MSE/MAD\nwith open('MADIM.pickle', 'wb') as handle:\n    pickle.dump((lm, nm), handle, pickle.HIGHEST_PROTOCOL)",
      "metadata": {}
    },
    {
      "cell_type": "code",
      "source": "",
      "metadata": {},
      "execution_count": null,
      "outputs": []
    },
    {
      "cell_type": "raw",
      "source": "ESTIMATES",
      "metadata": {}
    },
    {
      "cell_type": "raw",
      "source": "%cd /home/nbuser/library/DP/Data/DATA/\nwith open(\"S.pickle\", 'rb') as handle:\n    X, Y, N, V = pickle.load(handle)\nwith open(\"SC.pickle\", 'rb') as handle:\n    x, y, n, v = pickle.load(handle)",
      "metadata": {}
    },
    {
      "cell_type": "raw",
      "source": "PART 1. STORE REGRESSION ESTIMATES",
      "metadata": {}
    },
    {
      "cell_type": "raw",
      "source": "# Define Methods\n# Regression\nrO = [\"OLS\", \"SE\"]\nrW = [\"OLS\", \"Winsorize\", \"SE\"]\nrM = [\"MM\", \"Winsorize\", \"SE\"]\nrS = [\"SMDM\", \"Winsorize\", \"SE\"]",
      "metadata": {}
    },
    {
      "cell_type": "raw",
      "source": "r, o = Methods(x, y, n, v, rM)()",
      "metadata": {}
    },
    {
      "cell_type": "raw",
      "source": "# print(npl(o.T[0].T)[1])\nprint(npl(r.T[0])[1])",
      "metadata": {}
    },
    {
      "cell_type": "raw",
      "source": "%cd /home/nbuser/library/DP/Data/ESTIMATES\nwith open('SYNM.pickle', 'wb') as handle:\n    pickle.dump((r, o), handle, pickle.HIGHEST_PROTOCOL)",
      "metadata": {}
    },
    {
      "cell_type": "raw",
      "source": "\n\n\n\n\n\n",
      "metadata": {}
    },
    {
      "cell_type": "raw",
      "source": "MSE",
      "metadata": {}
    },
    {
      "cell_type": "raw",
      "source": "# Define Methods\nLBM = [\"Laplace\", \"BETA\", \"MOSE\"]\nNBM = [\"Gaussian\", \"BETA\", \"MOSE\"]\n\nLBDI = [\"Laplace\", \"BETA\", \"DWORK\", \"IQR\"]\nNBDI = [\"Gaussian\", \"BETA\", \"DWORK\", \"IQR\"]\n\nLBDM = [\"Laplace\", \"BETA\", \"DWORK\", \"MAD\"]\nNBDM = [\"Gaussian\", \"BETA\", \"DWORK\", \"MAD\"]\n\n# ignore BMAD ~ same as IQR\nLBDB = [\"Laplace\", \"BETA\", \"DWORK\", \"BMAD\"]\nNBDB = [\"Gaussian\", \"BETA\", \"DWORK\", \"BMAD\"]",
      "metadata": {}
    },
    {
      "cell_type": "raw",
      "source": "%cd /home/nbuser/library/DP/Data/DATA\nwith open(\"IAC.pickle\", \"rb\") as handle:\n    x, y, n, v = pickle.load(handle)",
      "metadata": {}
    },
    {
      "cell_type": "raw",
      "source": "%cd /home/nbuser/library/DP/Data/ESTIMATES\nwith open(\"IAT.pickle\", \"rb\") as handle:\n    tr, to = pickle.load(handle)\nwith open(\"IAS.pickle\", \"rb\") as handle:\n    r, o = pickle.load(handle)",
      "metadata": {}
    },
    {
      "cell_type": "raw",
      "source": "# 1\nlm = MSE(tr, r, o, n, LBM)()\nnm = MSE(tr, r, o, n, NBM)()",
      "metadata": {}
    },
    {
      "cell_type": "raw",
      "source": "# 2\nlm = MSE(tr, r, o, n, LBDI)()\nnm = MSE(tr, r, o, n, NBDI)()",
      "metadata": {}
    },
    {
      "cell_type": "raw",
      "source": "# 3\nlm = MSE(tr, r, o, n, LBDM)()\nnm = MSE(tr, r, o, n, NBDM)()",
      "metadata": {}
    },
    {
      "cell_type": "raw",
      "source": "lm",
      "metadata": {}
    },
    {
      "cell_type": "raw",
      "source": "%cd /home/nbuser/library/DP/Data/MSE/MAD\nwith open('MADSO.pickle', 'wb') as handle:\n    pickle.dump((lm, nm), handle, pickle.HIGHEST_PROTOCOL)",
      "metadata": {}
    },
    {
      "cell_type": "raw",
      "source": "\n\n\n",
      "metadata": {}
    },
    {
      "cell_type": "raw",
      "source": "LOCAL SOLUTION",
      "metadata": {}
    },
    {
      "cell_type": "code",
      "source": "# # dont local for mse\nLLM = [\"Laplace\", \"BETA\", \"MOSE\", \"Local\"]\nLNM = [\"Gaussian\", \"BETA\", \"MOSE\", \"Local\"]\n\nLLDI = [\"Laplace\", \"BETA\", \"DWORK\", \"IQR\", \"Local\"]\nLNDI = [\"Gaussian\", \"BETA\", \"DWORK\", \"IQR\", \"Local\"]\n\nLLDM = [\"Laplace\", \"BETA\", \"DWORK\", \"MAD\", \"Local\"]\nLNDM = [\"Gaussian\", \"BETA\", \"DWORK\", \"MAD\", \"Local\"]",
      "metadata": {
        "trusted": true
      },
      "execution_count": null,
      "outputs": []
    },
    {
      "cell_type": "raw",
      "source": "# 1\nlm, m0, m1, m2, m3 = MOSE(r, o, 0.5, n, LLM)()\nnm, m0, m1, m2, m3 = MOSE(r, o, 0.5, n, LNM)()",
      "metadata": {}
    },
    {
      "cell_type": "raw",
      "source": "#2\ns0, lm = DWORK(tr, r, o, 0.5, n, LLDI)()\ns0, nm = DWORK(tr, r, o, 0.5, n, LNDI)()",
      "metadata": {}
    },
    {
      "cell_type": "raw",
      "source": "#3\ns0, lm = DWORK(tr, r, o, 0.5, n, LLDM)()\ns0, nm = DWORK(tr, r, o, 0.5, n, LNDM)()",
      "metadata": {}
    },
    {
      "cell_type": "raw",
      "source": "lm[:4]",
      "metadata": {}
    },
    {
      "cell_type": "raw",
      "source": "%cd /home/nbuser/library/DP/Data/MSE/MOS\nwith open('LMIAS.pickle', 'wb') as handle:\n    pickle.dump((lm, nm), handle, pickle.HIGHEST_PROTOCOL)",
      "metadata": {}
    },
    {
      "cell_type": "raw",
      "source": "%cd /home/nbuser/library/DP/Data/MSE/IQR\nwith open('LIIAS.pickle', 'wb') as handle:\n    pickle.dump((lm, nm), handle, pickle.HIGHEST_PROTOCOL)",
      "metadata": {}
    },
    {
      "cell_type": "raw",
      "source": "%cd /home/nbuser/library/DP/Data/MSE/MAD\nwith open('LMADIAS.pickle', 'wb') as handle:\n    pickle.dump((lm, nm), handle, pickle.HIGHEST_PROTOCOL)",
      "metadata": {}
    },
    {
      "cell_type": "raw",
      "source": "END",
      "metadata": {}
    }
  ]
}