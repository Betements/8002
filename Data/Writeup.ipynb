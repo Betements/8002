{
  "metadata": {
    "kernelspec": {
      "name": "python36",
      "display_name": "Python 3.6",
      "language": "python"
    },
    "language_info": {
      "mimetype": "text/x-python",
      "nbconvert_exporter": "python",
      "name": "python",
      "pygments_lexer": "ipython3",
      "version": "3.6.6",
      "file_extension": ".py",
      "codemirror_mode": {
        "version": 3,
        "name": "ipython"
      }
    }
  },
  "nbformat_minor": 2,
  "nbformat": 4,
  "cells": [
    {
      "cell_type": "code",
      "source": "# Import Algorithms (& Libraries)\n%cd /home/nbuser/library/DP/\n%run Methods.ipynb",
      "metadata": {
        "trusted": true
      },
      "execution_count": 1,
      "outputs": [
        {
          "text": "/home/nbuser/library/DP\n",
          "name": "stdout",
          "output_type": "stream"
        }
      ]
    },
    {
      "cell_type": "raw",
      "source": "%cd /home/nbuser/library/DP/Data/\nwith open(\".pickle\", \"rb\") as handle:\n    X, Y, N, v = pickle.load(handle)\nr, o = Methods(X, Y, N, v, rM)()\nwith open('.pickle', 'wb') as handle:\n    pickle.dump((r, o), handle, pickle.HIGHEST_PROTOCOL)",
      "metadata": {}
    },
    {
      "cell_type": "raw",
      "source": "# Import Synthetic Data\n%cd '/home/nbuser/library/example_code_implementation_guide/'\nstata = pd.read_stata('private_data_by_cells.dta')\nsynth = stata[stata.columns[::-1]]",
      "metadata": {}
    },
    {
      "cell_type": "raw",
      "source": "PART 1. STORE REGRESSION ESTIMATES",
      "metadata": {}
    },
    {
      "cell_type": "code",
      "source": "# Define Methods\n# Regression\nrO = [\"OLS\", \"SE\"]\nrW = [\"OLS\", \"Winsorize\", \"SE\"]\nrM = [\"MM\", \"Winsorize\", \"SE\"]\nrS = [\"SMDM\", \"Winsorize\", \"SE\"]",
      "metadata": {
        "trusted": true
      },
      "execution_count": 23,
      "outputs": []
    },
    {
      "cell_type": "raw",
      "source": "# Import Alaska Data\n%cd /home/nbuser/library/DP/Data/\nwith open(\"ASYNDATA.pickle\", \"rb\") as handle:\n    x, y, n, v = pickle.load(handle)",
      "metadata": {}
    },
    {
      "cell_type": "raw",
      "source": "r, o = Methods(x, y, n, v, rO)()",
      "metadata": {}
    },
    {
      "cell_type": "raw",
      "source": "# print(npl(o.T[0].T)[1])\n# print(npl(r.T[0])[1])\nr",
      "metadata": {}
    },
    {
      "cell_type": "raw",
      "source": "%cd /home/nbuser/library/DP/Data/\nwith open('SYNT.pickle', 'wb') as handle:\n    pickle.dump((r, o), handle, pickle.HIGHEST_PROTOCOL)",
      "metadata": {}
    },
    {
      "cell_type": "raw",
      "source": "PICKLE",
      "metadata": {}
    },
    {
      "cell_type": "raw",
      "source": "%cd /home/nbuser/library/DP/Data/\nwith open('.pickle', 'wb') as handle:\n    pickle.dump((r, o), handle, pickle.HIGHEST_PROTOCOL)",
      "metadata": {}
    },
    {
      "cell_type": "raw",
      "source": "MSE",
      "metadata": {}
    },
    {
      "cell_type": "code",
      "source": "# Define Methods\nLBD = [\"Laplace\", \"BETA\", \"DWORK\"]\nLBM = [\"Laplace\", \"BETA\", \"MOSE\"]\nNBD = [\"Gaussian\", \"BETA\", \"DWORK\"]\nNBM = [\"Gaussian\", \"BETA\", \"MOSE\"]\n\nLS = [\"Laplace\", \"SE\"]\nNS = [\"Gaussian\", \"SE\"]",
      "metadata": {
        "trusted": true
      },
      "execution_count": 2,
      "outputs": []
    },
    {
      "cell_type": "code",
      "source": "%cd /home/nbuser/library/DP/Data/\nwith open(\"SYNDATA.pickle\", \"rb\") as handle:\n    X, Y, N, v = pickle.load(handle)\nwith open(\"SYNT.pickle\", \"rb\") as handle:\n    tr, to = pickle.load(handle)",
      "metadata": {
        "trusted": true
      },
      "execution_count": 46,
      "outputs": [
        {
          "text": "/home/nbuser/library/DP/Data\n",
          "name": "stdout",
          "output_type": "stream"
        }
      ]
    },
    {
      "cell_type": "code",
      "source": "with open(\"SYNM.pickle\", \"rb\") as handle:\n    r, o = pickle.load(handle)",
      "metadata": {
        "trusted": true
      },
      "execution_count": 66,
      "outputs": []
    },
    {
      "cell_type": "code",
      "source": "ld = MSE(tr, r, o, N, LBD)()\nlm = MSE(tr, r, o, N, LBM)()",
      "metadata": {
        "trusted": true
      },
      "execution_count": 67,
      "outputs": []
    },
    {
      "cell_type": "code",
      "source": "nd = MSE(tr, r, o, N, NBD)()\nnm = MSE(tr, r, o, N, NBM)()",
      "metadata": {
        "trusted": true
      },
      "execution_count": 62,
      "outputs": []
    },
    {
      "cell_type": "code",
      "source": "ld",
      "metadata": {
        "trusted": true
      },
      "execution_count": 68,
      "outputs": [
        {
          "execution_count": 68,
          "output_type": "execute_result",
          "data": {
            "text/plain": "[[0.3958415942794322],\n [0.39522936213173],\n [0.3914097496753308],\n [0.3920026531013935],\n [0.3860169389203202],\n [0.3937720666792298],\n [0.3923937871538921],\n [0.3919408463030164],\n [0.3700983548277294],\n [0.36731436676951446]]"
          },
          "metadata": {}
        }
      ]
    },
    {
      "cell_type": "code",
      "source": "with open('MSE_SYNW.pickle', 'wb') as handle:\n    pickle.dump((ld, lm, nd, nm), handle, pickle.HIGHEST_PROTOCOL)",
      "metadata": {
        "trusted": true
      },
      "execution_count": 65,
      "outputs": []
    },
    {
      "cell_type": "code",
      "source": "\"hello\"",
      "metadata": {
        "trusted": true
      },
      "execution_count": 69,
      "outputs": [
        {
          "execution_count": 69,
          "output_type": "execute_result",
          "data": {
            "text/plain": "'hello'"
          },
          "metadata": {}
        }
      ]
    },
    {
      "cell_type": "raw",
      "source": "PICKLE",
      "metadata": {}
    }
  ]
}