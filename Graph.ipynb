{
  "metadata": {
    "language_info": {
      "mimetype": "text/x-python",
      "nbconvert_exporter": "python",
      "name": "python",
      "pygments_lexer": "ipython3",
      "version": "3.6.6",
      "file_extension": ".py",
      "codemirror_mode": {
        "version": 3,
        "name": "ipython"
      }
    },
    "kernelspec": {
      "name": "python36",
      "display_name": "Python 3.6",
      "language": "python"
    }
  },
  "nbformat_minor": 2,
  "nbformat": 4,
  "cells": [
    {
      "cell_type": "code",
      "source": "# Plot Tools\nimport pickle\nimport numpy as np\nimport matplotlib.pyplot as plt\n%matplotlib inline\n\nfrom matplotlib import cycler\ncolors = cycler('color', \n       ['#EE6666', '#3388BB', '#9988DD', '#EECC55', \n       '#88BB44', '#FFBBBB'])\n\nplt.rc('axes', facecolor='#E6E6E6', edgecolor='none',\n      axisbelow=True, grid=True, prop_cycle=colors)\nplt.rc('grid', color='w', linestyle='solid')\nplt.rc('xtick', direction='out', color='gray')\nplt.rc('ytick', direction='out', color='gray')\nplt.rc('patch', edgecolor='#E6E6E6')\nplt.rc('lines', linewidth=2)",
      "metadata": {
        "trusted": true
      },
      "execution_count": 7,
      "outputs": []
    },
    {
      "cell_type": "code",
      "source": "# Import Data\n%cd /home/nbuser/library/DP/Data/\nwith open('IA.pickle', 'rb') as handle:\n    ax, ay, an, av = pickle.load(handle)\nwith open('IAC.pickle', 'rb') as handle:\n    x, y, n, v = pickle.load(handle)\nwith open('IAT.pickle', 'rb') as handle:\n    ar, ao = pickle.load(handle)\nwith open('IAO.pickle', 'rb') as handle:\n    r, o = pickle.load(handle)",
      "metadata": {
        "trusted": true
      },
      "execution_count": 190,
      "outputs": [
        {
          "text": "/home/nbuser/library/DP/Data\n",
          "name": "stdout",
          "output_type": "stream"
        }
      ]
    },
    {
      "cell_type": "code",
      "source": "def npl(x):\n    ''' Convert subarrays into lists \n    '''\n    return np.asarray([i.tolist() for i in x])\nO = npl(o.T[0].T)\nR = npl(r.T[0])\nAO = npl(ao.T[0].T[0])\nAR = npl(ar.T[0][0])",
      "metadata": {
        "trusted": true
      },
      "execution_count": 178,
      "outputs": []
    },
    {
      "cell_type": "code",
      "source": "",
      "metadata": {
        "trusted": true
      },
      "execution_count": null,
      "outputs": []
    },
    {
      "cell_type": "code",
      "source": "def plot(x, y, b, index, also=None):\n    fig, ax = plt.subplots(figsize = (8,6))\n    l = np.linspace(0, 1, 5)\n    if index is not None:\n        ax.scatter(x[index], y[index])\n        if b is not None:\n            if also is not None:\n                line = lambda x, b: b[index][also][1]*x + b[index][also][0]\n            else:\n                line = lambda x, b: b[index][1]*x + b[index][0]\n    else:\n        ax.scatter(x, y)\n        if b is not None:\n            if also is not None:\n                line = lambda x, b: b[also][1]*x + b[also][0]\n            else:\n                line = lambda x, b: b[1]*x + b[0]\n    if b is not None:\n        ax.plot(l, line(l, b))\n    ax.set_xlim(-0.025, 1.025)\n    ax.set_ylim(-0.025, 1.025)\n    ax.grid(which='minor', color='w', alpha=0.3)\n    plt.show()",
      "metadata": {
        "trusted": true
      },
      "execution_count": 206,
      "outputs": []
    },
    {
      "cell_type": "raw",
      "source": "def rand_jitter(arr):\n    stdev = .01*(max(arr)-min(arr))\n    return arr + np.random.randn(len(arr)) * stdev\nax = rand_jitter(ax)\nay = rand_jitter(ay)",
      "metadata": {}
    },
    {
      "cell_type": "code",
      "source": "O[0]",
      "metadata": {
        "trusted": true
      },
      "execution_count": 204,
      "outputs": [
        {
          "execution_count": 204,
          "output_type": "execute_result",
          "data": {
            "text/plain": "array([[-0.17038427,  0.64390695],\n       [ 0.27978535, -0.54806255],\n       [ 0.50845393, -1.09185054],\n       [-0.29224843,  1.01425199]])"
          },
          "metadata": {}
        }
      ]
    },
    {
      "cell_type": "code",
      "source": "plot(x, y, O, 2, 0)",
      "metadata": {
        "trusted": true
      },
      "execution_count": 214,
      "outputs": [
        {
          "output_type": "display_data",
          "data": {
            "image/png": "[encoded data removed]",
            "text/plain": "<Figure size 576x432 with 1 Axes>"
          },
          "metadata": {
            "needs_background": "dark"
          }
        }
      ]
    }
  ]
}